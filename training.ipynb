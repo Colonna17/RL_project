{
 "cells": [
  {
   "cell_type": "code",
   "execution_count": 1,
   "metadata": {},
   "outputs": [
    {
     "name": "stderr",
     "output_type": "stream",
     "text": [
      "2024-01-02 12:37:12.811345: I tensorflow/core/platform/cpu_feature_guard.cc:182] This TensorFlow binary is optimized to use available CPU instructions in performance-critical operations.\n",
      "To enable the following instructions: AVX2 FMA, in other operations, rebuild TensorFlow with the appropriate compiler flags.\n",
      "2024-01-02 12:37:13.408279: W tensorflow/compiler/tf2tensorrt/utils/py_utils.cc:38] TF-TRT Warning: Could not find TensorRT\n"
     ]
    }
   ],
   "source": [
    "import datetime\n",
    "import os\n",
    "import argparse\n",
    "import torch\n",
    "\n",
    "from rlpyt.samplers.collections import TrajInfo\n",
    "from rlpyt.runners.minibatch_rl import MinibatchRlEval, MinibatchRl\n",
    "from rlpyt.samplers.serial.sampler import SerialSampler\n",
    "from rlpyt.utils.logging.context import logger_context\n",
    "\n",
    "from dreamer_agent import DMCDreamerAgent\n",
    "from algorithm import Dreamer\n",
    "from envs.dmc import DeepMindControl\n",
    "from envs.time_limit import TimeLimit\n",
    "from envs.action_repeat import ActionRepeat\n",
    "from envs.normalize_actions import NormalizeActions\n",
    "from envs.wrapper import make_wapper"
   ]
  },
  {
   "cell_type": "code",
   "execution_count": 2,
   "metadata": {},
   "outputs": [],
   "source": [
    "def build_and_train(\n",
    "    log_dir,\n",
    "    game=\"cartpole_balance\",\n",
    "    run_ID=0,\n",
    "    cuda_idx=None,\n",
    "    eval=False,\n",
    "    save_model=\"last\",\n",
    "    load_model_path=None,\n",
    "):\n",
    "    params = torch.load(load_model_path) if load_model_path else {}\n",
    "    agent_state_dict = params.get(\"agent_state_dict\")\n",
    "    optimizer_state_dict = params.get(\"optimizer_state_dict\")\n",
    "    action_repeat = 2\n",
    "    factory_method = make_wapper(\n",
    "        DeepMindControl,\n",
    "        [ActionRepeat, NormalizeActions, TimeLimit],\n",
    "        [dict(amount=action_repeat), dict(), dict(duration=1000 / action_repeat)],\n",
    "    )\n",
    "    sampler = SerialSampler(\n",
    "        EnvCls=factory_method,\n",
    "        TrajInfoCls=TrajInfo,\n",
    "        env_kwargs=dict(name=game),\n",
    "        eval_env_kwargs=dict(name=game),\n",
    "        batch_T=1,\n",
    "        batch_B=1,\n",
    "        max_decorrelation_steps=0,\n",
    "        eval_n_envs=10,\n",
    "        eval_max_steps=int(10e3),\n",
    "        eval_max_trajectories=5,\n",
    "    )\n",
    "    algo = Dreamer(initial_optim_state_dict=optimizer_state_dict)  # Run with defaults.\n",
    "    agent = DMCDreamerAgent(\n",
    "        train_noise=0.3,\n",
    "        eval_noise=0,\n",
    "        expl_type=\"additive_gaussian\",\n",
    "        expl_min=None,\n",
    "        expl_decay=None,\n",
    "        initial_model_state_dict=agent_state_dict,\n",
    "    )\n",
    "    runner_cls = MinibatchRlEval if eval else MinibatchRl\n",
    "    runner = runner_cls(\n",
    "        algo=algo,\n",
    "        agent=agent,\n",
    "        sampler=sampler,\n",
    "        n_steps=50000,\n",
    "        log_interval_steps=1e3,\n",
    "        affinity=dict(cuda_idx=cuda_idx),\n",
    "    )\n",
    "    config = dict(game=game)\n",
    "    name = \"dreamer_\" + game\n",
    "    with logger_context(\n",
    "        log_dir,\n",
    "        run_ID,\n",
    "        name,\n",
    "        config,\n",
    "        snapshot_mode=save_model,\n",
    "        override_prefix=True,\n",
    "        use_summary_writer=True,\n",
    "    ):\n",
    "        runner.train()\n"
   ]
  },
  {
   "cell_type": "code",
   "execution_count": 3,
   "metadata": {},
   "outputs": [
    {
     "name": "stdout",
     "output_type": "stream",
     "text": [
      "2024-01-02 12:37:14.240939  | dreamer_humanoid_stand_0 Runner  master CPU affinity: [0, 1, 2, 3, 4, 5, 6, 7, 8, 9, 10, 11].\n",
      "2024-01-02 12:37:14.241585  | dreamer_humanoid_stand_0 Runner  master Torch threads: 6.\n"
     ]
    },
    {
     "name": "stdout",
     "output_type": "stream",
     "text": [
      "\u001b[32musing seed 8863\u001b[0m\n",
      " DIMENSIONI DELL INITIAL STATE.STOCH =  torch.Size([1, 30])\n",
      "2024-01-02 12:37:15.639392  | dreamer_humanoid_stand_0 Sampler decorrelating envs, max steps: 0\n",
      "2024-01-02 12:37:15.640070  | dreamer_humanoid_stand_0 Serial Sampler initialized.\n",
      "2024-01-02 12:37:15.640533  | dreamer_humanoid_stand_0 Running 50000 iterations of minibatch RL.\n",
      "2024-01-02 12:37:16.351956  | dreamer_humanoid_stand_0 Initialized agent model on device: cuda:0.\n",
      "DAI CHE SIAMO VICINIIIIIIII\n",
      "size passato a SequenceNStepReturnBuffer = 50000\n",
      "2024-01-02 12:37:16.374410  | dreamer_humanoid_stand_0 Optimizing over 1000 iterations.\n",
      "Warning: No valid output stream.\n"
     ]
    },
    {
     "name": "stderr",
     "output_type": "stream",
     "text": [
      "/home/eddy/.local/lib/python3.10/site-packages/torch/optim/adam.py:33: UserWarning: optimizer contains a parameter group with duplicate parameters; in future, this will cause an error; see github.com/pytorch/pytorch/issues/40967 for more information\n",
      "  super().__init__(params, defaults)\n"
     ]
    },
    {
     "name": "stdout",
     "output_type": "stream",
     "text": [
      " DIMENSIONI DELL INITIAL STATE.STOCH =  torch.Size([1, 30])\n",
      "2024-01-02 12:37:25.205276  | dreamer_humanoid_stand_0 itr #999 saving snapshot...\n",
      "2024-01-02 12:37:25.252329  | dreamer_humanoid_stand_0 itr #999 saved\n",
      "2024-01-02 12:37:25.260678  | -----------------------------  ----------\n",
      "2024-01-02 12:37:25.261435  | Diagnostics/NewCompletedTrajs     2\n",
      "2024-01-02 12:37:25.261800  | Diagnostics/StepsInTrajWindow  1000\n",
      "2024-01-02 12:37:25.262171  | Diagnostics/Iteration           999\n",
      "2024-01-02 12:37:25.262606  | Diagnostics/CumTime (s)           8.87809\n",
      "2024-01-02 12:37:25.263070  | Diagnostics/CumSteps           1000\n",
      "2024-01-02 12:37:25.263414  | Diagnostics/CumCompletedTrajs     2\n",
      "2024-01-02 12:37:25.264142  | Diagnostics/CumUpdates            0\n",
      "2024-01-02 12:37:25.264487  | Diagnostics/StepsPerSecond      112.637\n",
      "2024-01-02 12:37:25.264778  | Diagnostics/UpdatesPerSecond      0\n",
      "2024-01-02 12:37:25.265219  | Diagnostics/ReplayRatio           0\n",
      "2024-01-02 12:37:25.265687  | Diagnostics/CumReplayRatio        0\n",
      "2024-01-02 12:37:25.266213  | Length/Average                  500\n",
      "2024-01-02 12:37:25.266916  | Length/Std                        0\n",
      "2024-01-02 12:37:25.267800  | Length/Median                   500\n",
      "2024-01-02 12:37:25.268116  | Length/Min                      500\n",
      "2024-01-02 12:37:25.268539  | Length/Max                      500\n",
      "2024-01-02 12:37:25.268882  | Return/Average                    3.98328\n",
      "2024-01-02 12:37:25.269231  | Return/Std                        1.6701\n",
      "2024-01-02 12:37:25.269555  | Return/Median                     3.98328\n",
      "2024-01-02 12:37:25.269829  | Return/Min                        2.31318\n",
      "2024-01-02 12:37:25.270262  | Return/Max                        5.65338\n",
      "2024-01-02 12:37:25.270662  | NonzeroRewards/Average          500\n",
      "2024-01-02 12:37:25.271070  | NonzeroRewards/Std                0\n",
      "2024-01-02 12:37:25.271666  | NonzeroRewards/Median           500\n",
      "2024-01-02 12:37:25.272125  | NonzeroRewards/Min              500\n",
      "2024-01-02 12:37:25.272494  | NonzeroRewards/Max              500\n",
      "2024-01-02 12:37:25.272819  | DiscountedReturn/Average          3.90172\n",
      "2024-01-02 12:37:25.273471  | DiscountedReturn/Std              1.62351\n",
      "2024-01-02 12:37:25.273852  | DiscountedReturn/Median           3.90172\n",
      "2024-01-02 12:37:25.274321  | DiscountedReturn/Min              2.27821\n",
      "2024-01-02 12:37:25.274754  | DiscountedReturn/Max              5.52523\n",
      "2024-01-02 12:37:25.275216  | loss/Average                    nan\n",
      "2024-01-02 12:37:25.275687  | loss/Std                        nan\n",
      "2024-01-02 12:37:25.276005  | loss/Median                     nan\n",
      "2024-01-02 12:37:25.276300  | loss/Min                        nan\n",
      "2024-01-02 12:37:25.276693  | loss/Max                        nan\n",
      "2024-01-02 12:37:25.277066  | grad_norm_model/Average         nan\n",
      "2024-01-02 12:37:25.277355  | grad_norm_model/Std             nan\n",
      "2024-01-02 12:37:25.277659  | grad_norm_model/Median          nan\n",
      "2024-01-02 12:37:25.277971  | grad_norm_model/Min             nan\n",
      "2024-01-02 12:37:25.278317  | grad_norm_model/Max             nan\n",
      "2024-01-02 12:37:25.278664  | grad_norm_actor/Average         nan\n",
      "2024-01-02 12:37:25.279475  | grad_norm_actor/Std             nan\n",
      "2024-01-02 12:37:25.279925  | grad_norm_actor/Median          nan\n",
      "2024-01-02 12:37:25.280527  | grad_norm_actor/Min             nan\n",
      "2024-01-02 12:37:25.281056  | grad_norm_actor/Max             nan\n",
      "2024-01-02 12:37:25.281554  | grad_norm_value/Average         nan\n",
      "2024-01-02 12:37:25.281919  | grad_norm_value/Std             nan\n",
      "2024-01-02 12:37:25.282310  | grad_norm_value/Median          nan\n",
      "2024-01-02 12:37:25.282611  | grad_norm_value/Min             nan\n",
      "2024-01-02 12:37:25.283191  | grad_norm_value/Max             nan\n",
      "2024-01-02 12:37:25.283474  | model_loss/Average              nan\n",
      "2024-01-02 12:37:25.283926  | model_loss/Std                  nan\n",
      "2024-01-02 12:37:25.284223  | model_loss/Median               nan\n",
      "2024-01-02 12:37:25.284675  | model_loss/Min                  nan\n",
      "2024-01-02 12:37:25.284991  | model_loss/Max                  nan\n",
      "2024-01-02 12:37:25.285453  | actor_loss/Average              nan\n",
      "2024-01-02 12:37:25.285803  | actor_loss/Std                  nan\n",
      "2024-01-02 12:37:25.286159  | actor_loss/Median               nan\n",
      "2024-01-02 12:37:25.286590  | actor_loss/Min                  nan\n",
      "2024-01-02 12:37:25.286896  | actor_loss/Max                  nan\n",
      "2024-01-02 12:37:25.287306  | value_loss/Average              nan\n",
      "2024-01-02 12:37:25.287819  | value_loss/Std                  nan\n",
      "2024-01-02 12:37:25.288514  | value_loss/Median               nan\n",
      "2024-01-02 12:37:25.288836  | value_loss/Min                  nan\n",
      "2024-01-02 12:37:25.289264  | value_loss/Max                  nan\n",
      "2024-01-02 12:37:25.289624  | prior_entropy/Average           nan\n",
      "2024-01-02 12:37:25.289965  | prior_entropy/Std               nan\n",
      "2024-01-02 12:37:25.290377  | prior_entropy/Median            nan\n",
      "2024-01-02 12:37:25.290901  | prior_entropy/Min               nan\n",
      "2024-01-02 12:37:25.291340  | prior_entropy/Max               nan\n",
      "2024-01-02 12:37:25.291761  | post_entropy/Average            nan\n",
      "2024-01-02 12:37:25.292139  | post_entropy/Std                nan\n",
      "2024-01-02 12:37:25.292466  | post_entropy/Median             nan\n",
      "2024-01-02 12:37:25.292805  | post_entropy/Min                nan\n",
      "2024-01-02 12:37:25.293317  | post_entropy/Max                nan\n",
      "2024-01-02 12:37:25.293714  | divergence/Average              nan\n",
      "2024-01-02 12:37:25.294158  | divergence/Std                  nan\n",
      "2024-01-02 12:37:25.294465  | divergence/Median               nan\n",
      "2024-01-02 12:37:25.294776  | divergence/Min                  nan\n",
      "2024-01-02 12:37:25.295250  | divergence/Max                  nan\n",
      "2024-01-02 12:37:25.295530  | reward_loss/Average             nan\n",
      "2024-01-02 12:37:25.295920  | reward_loss/Std                 nan\n",
      "2024-01-02 12:37:25.296285  | reward_loss/Median              nan\n",
      "2024-01-02 12:37:25.296619  | reward_loss/Min                 nan\n",
      "2024-01-02 12:37:25.296947  | reward_loss/Max                 nan\n",
      "2024-01-02 12:37:25.297287  | image_loss/Average              nan\n",
      "2024-01-02 12:37:25.297729  | image_loss/Std                  nan\n",
      "2024-01-02 12:37:25.298223  | image_loss/Median               nan\n",
      "2024-01-02 12:37:25.298681  | image_loss/Min                  nan\n",
      "2024-01-02 12:37:25.299116  | image_loss/Max                  nan\n",
      "2024-01-02 12:37:25.299546  | pcont_loss/Average              nan\n",
      "2024-01-02 12:37:25.299915  | pcont_loss/Std                  nan\n",
      "2024-01-02 12:37:25.300837  | pcont_loss/Median               nan\n",
      "2024-01-02 12:37:25.302040  | pcont_loss/Min                  nan\n",
      "2024-01-02 12:37:25.302458  | pcont_loss/Max                  nan\n",
      "2024-01-02 12:37:25.302878  | -----------------------------  ----------\n",
      "2024-01-02 12:37:25.303818  | dreamer_humanoid_stand_0 itr #999 Optimizing over 1000 iterations.\n",
      "Warning: No valid output stream.\n",
      "2024-01-02 12:37:33.470881  | dreamer_humanoid_stand_0 itr #1999 saving snapshot...\n",
      "2024-01-02 12:37:33.510372  | dreamer_humanoid_stand_0 itr #1999 saved\n",
      "2024-01-02 12:37:33.516454  | -----------------------------  ----------\n",
      "2024-01-02 12:37:33.516841  | Diagnostics/NewCompletedTrajs     2\n",
      "2024-01-02 12:37:33.517463  | Diagnostics/StepsInTrajWindow  2000\n",
      "2024-01-02 12:37:33.518050  | Diagnostics/Iteration          1999\n",
      "2024-01-02 12:37:33.518557  | Diagnostics/CumTime (s)          17.136\n",
      "2024-01-02 12:37:33.518920  | Diagnostics/CumSteps           2000\n",
      "2024-01-02 12:37:33.519349  | Diagnostics/CumCompletedTrajs     4\n",
      "2024-01-02 12:37:33.519975  | Diagnostics/CumUpdates            0\n",
      "2024-01-02 12:37:33.520293  | Diagnostics/StepsPerSecond      121.096\n",
      "2024-01-02 12:37:33.520606  | Diagnostics/UpdatesPerSecond      0\n",
      "2024-01-02 12:37:33.521123  | Diagnostics/ReplayRatio           0\n",
      "2024-01-02 12:37:33.521565  | Diagnostics/CumReplayRatio        0\n",
      "2024-01-02 12:37:33.521973  | Length/Average                  500\n",
      "2024-01-02 12:37:33.522314  | Length/Std                        0\n",
      "2024-01-02 12:37:33.522861  | Length/Median                   500\n",
      "2024-01-02 12:37:33.523256  | Length/Min                      500\n",
      "2024-01-02 12:37:33.523724  | Length/Max                      500\n",
      "2024-01-02 12:37:33.524055  | Return/Average                    4.85627\n",
      "2024-01-02 12:37:33.524397  | Return/Std                        1.97837\n",
      "2024-01-02 12:37:33.524792  | Return/Median                     4.75398\n",
      "2024-01-02 12:37:33.525079  | Return/Min                        2.31318\n",
      "2024-01-02 12:37:33.525392  | Return/Max                        7.60394\n",
      "2024-01-02 12:37:33.526149  | NonzeroRewards/Average          500\n",
      "2024-01-02 12:37:33.526421  | NonzeroRewards/Std                0\n",
      "2024-01-02 12:37:33.526720  | NonzeroRewards/Median           500\n",
      "2024-01-02 12:37:33.527210  | NonzeroRewards/Min              500\n",
      "2024-01-02 12:37:33.527560  | NonzeroRewards/Max              500\n",
      "2024-01-02 12:37:33.527891  | DiscountedReturn/Average          4.74724\n",
      "2024-01-02 12:37:33.528171  | DiscountedReturn/Std              1.92026\n",
      "2024-01-02 12:37:33.528593  | DiscountedReturn/Median           4.64943\n",
      "2024-01-02 12:37:33.528869  | DiscountedReturn/Min              2.27821\n",
      "2024-01-02 12:37:33.529362  | DiscountedReturn/Max              7.41189\n",
      "2024-01-02 12:37:33.529759  | loss/Average                    nan\n",
      "2024-01-02 12:37:33.530352  | loss/Std                        nan\n",
      "2024-01-02 12:37:33.530713  | loss/Median                     nan\n",
      "2024-01-02 12:37:33.531006  | loss/Min                        nan\n",
      "2024-01-02 12:37:33.531518  | loss/Max                        nan\n",
      "2024-01-02 12:37:33.531870  | grad_norm_model/Average         nan\n",
      "2024-01-02 12:37:33.532496  | grad_norm_model/Std             nan\n",
      "2024-01-02 12:37:33.532817  | grad_norm_model/Median          nan\n",
      "2024-01-02 12:37:33.533189  | grad_norm_model/Min             nan\n",
      "2024-01-02 12:37:33.533557  | grad_norm_model/Max             nan\n",
      "2024-01-02 12:37:33.534092  | grad_norm_actor/Average         nan\n",
      "2024-01-02 12:37:33.534608  | grad_norm_actor/Std             nan\n",
      "2024-01-02 12:37:33.534913  | grad_norm_actor/Median          nan\n",
      "2024-01-02 12:37:33.535201  | grad_norm_actor/Min             nan\n",
      "2024-01-02 12:37:33.535531  | grad_norm_actor/Max             nan\n",
      "2024-01-02 12:37:33.535871  | grad_norm_value/Average         nan\n",
      "2024-01-02 12:37:33.536215  | grad_norm_value/Std             nan\n",
      "2024-01-02 12:37:33.536523  | grad_norm_value/Median          nan\n",
      "2024-01-02 12:37:33.536872  | grad_norm_value/Min             nan\n",
      "2024-01-02 12:37:33.537211  | grad_norm_value/Max             nan\n",
      "2024-01-02 12:37:33.537594  | model_loss/Average              nan\n",
      "2024-01-02 12:37:33.537924  | model_loss/Std                  nan\n",
      "2024-01-02 12:37:33.538227  | model_loss/Median               nan\n",
      "2024-01-02 12:37:33.538575  | model_loss/Min                  nan\n",
      "2024-01-02 12:37:33.538896  | model_loss/Max                  nan\n",
      "2024-01-02 12:37:33.539195  | actor_loss/Average              nan\n",
      "2024-01-02 12:37:33.539485  | actor_loss/Std                  nan\n",
      "2024-01-02 12:37:33.539774  | actor_loss/Median               nan\n",
      "2024-01-02 12:37:33.540057  | actor_loss/Min                  nan\n",
      "2024-01-02 12:37:33.540345  | actor_loss/Max                  nan\n",
      "2024-01-02 12:37:33.540646  | value_loss/Average              nan\n",
      "2024-01-02 12:37:33.542196  | value_loss/Std                  nan\n",
      "2024-01-02 12:37:33.542521  | value_loss/Median               nan\n",
      "2024-01-02 12:37:33.542800  | value_loss/Min                  nan\n",
      "2024-01-02 12:37:33.543157  | value_loss/Max                  nan\n",
      "2024-01-02 12:37:33.543821  | prior_entropy/Average           nan\n",
      "2024-01-02 12:37:33.544296  | prior_entropy/Std               nan\n",
      "2024-01-02 12:37:33.544730  | prior_entropy/Median            nan\n",
      "2024-01-02 12:37:33.545182  | prior_entropy/Min               nan\n",
      "2024-01-02 12:37:33.545606  | prior_entropy/Max               nan\n",
      "2024-01-02 12:37:33.546036  | post_entropy/Average            nan\n",
      "2024-01-02 12:37:33.546460  | post_entropy/Std                nan\n",
      "2024-01-02 12:37:33.546887  | post_entropy/Median             nan\n",
      "2024-01-02 12:37:33.547547  | post_entropy/Min                nan\n",
      "2024-01-02 12:37:33.548001  | post_entropy/Max                nan\n",
      "2024-01-02 12:37:33.548534  | divergence/Average              nan\n",
      "2024-01-02 12:37:33.549053  | divergence/Std                  nan\n",
      "2024-01-02 12:37:33.549610  | divergence/Median               nan\n",
      "2024-01-02 12:37:33.550143  | divergence/Min                  nan\n",
      "2024-01-02 12:37:33.550807  | divergence/Max                  nan\n",
      "2024-01-02 12:37:33.551324  | reward_loss/Average             nan\n",
      "2024-01-02 12:37:33.551834  | reward_loss/Std                 nan\n",
      "2024-01-02 12:37:33.552358  | reward_loss/Median              nan\n",
      "2024-01-02 12:37:33.552780  | reward_loss/Min                 nan\n",
      "2024-01-02 12:37:33.553447  | reward_loss/Max                 nan\n",
      "2024-01-02 12:37:33.553851  | image_loss/Average              nan\n",
      "2024-01-02 12:37:33.554286  | image_loss/Std                  nan\n",
      "2024-01-02 12:37:33.554970  | image_loss/Median               nan\n",
      "2024-01-02 12:37:33.555489  | image_loss/Min                  nan\n",
      "2024-01-02 12:37:33.555926  | image_loss/Max                  nan\n",
      "2024-01-02 12:37:33.556504  | pcont_loss/Average              nan\n",
      "2024-01-02 12:37:33.556944  | pcont_loss/Std                  nan\n",
      "2024-01-02 12:37:33.557420  | pcont_loss/Median               nan\n",
      "2024-01-02 12:37:33.558129  | pcont_loss/Min                  nan\n",
      "2024-01-02 12:37:33.558690  | pcont_loss/Max                  nan\n",
      "2024-01-02 12:37:33.559278  | -----------------------------  ----------\n",
      "2024-01-02 12:37:33.560172  | dreamer_humanoid_stand_0 itr #1999 Optimizing over 1000 iterations.\n",
      "Warning: No valid output stream.\n",
      "2024-01-02 12:37:42.363260  | dreamer_humanoid_stand_0 itr #2999 saving snapshot...\n",
      "2024-01-02 12:37:42.408562  | dreamer_humanoid_stand_0 itr #2999 saved\n",
      "2024-01-02 12:37:42.414846  | -----------------------------  ----------\n",
      "2024-01-02 12:37:42.415480  | Diagnostics/NewCompletedTrajs     2\n",
      "2024-01-02 12:37:42.415987  | Diagnostics/StepsInTrajWindow  3000\n",
      "2024-01-02 12:37:42.416515  | Diagnostics/Iteration          2999\n",
      "2024-01-02 12:37:42.416996  | Diagnostics/CumTime (s)          26.0343\n",
      "2024-01-02 12:37:42.417466  | Diagnostics/CumSteps           3000\n",
      "2024-01-02 12:37:42.417971  | Diagnostics/CumCompletedTrajs     6\n",
      "2024-01-02 12:37:42.418488  | Diagnostics/CumUpdates            0\n",
      "2024-01-02 12:37:42.418906  | Diagnostics/StepsPerSecond      112.382\n",
      "2024-01-02 12:37:42.419348  | Diagnostics/UpdatesPerSecond      0\n",
      "2024-01-02 12:37:42.420682  | Diagnostics/ReplayRatio           0\n",
      "2024-01-02 12:37:42.421158  | Diagnostics/CumReplayRatio        0\n",
      "2024-01-02 12:37:42.421582  | Length/Average                  500\n",
      "2024-01-02 12:37:42.422373  | Length/Std                        0\n",
      "2024-01-02 12:37:42.422756  | Length/Median                   500\n",
      "2024-01-02 12:37:42.423252  | Length/Min                      500\n",
      "2024-01-02 12:37:42.423708  | Length/Max                      500\n",
      "2024-01-02 12:37:42.424251  | Return/Average                    4.35791\n",
      "2024-01-02 12:37:42.425324  | Return/Std                        1.8831\n",
      "2024-01-02 12:37:42.425777  | Return/Median                     4.18237\n",
      "2024-01-02 12:37:42.426283  | Return/Min                        2.21223\n",
      "2024-01-02 12:37:42.427027  | Return/Max                        7.60394\n",
      "2024-01-02 12:37:42.427516  | NonzeroRewards/Average          500\n",
      "2024-01-02 12:37:42.428038  | NonzeroRewards/Std                0\n",
      "2024-01-02 12:37:42.428461  | NonzeroRewards/Median           500\n",
      "2024-01-02 12:37:42.428872  | NonzeroRewards/Min              500\n",
      "2024-01-02 12:37:42.429354  | NonzeroRewards/Max              500\n",
      "2024-01-02 12:37:42.429792  | DiscountedReturn/Average          4.26665\n",
      "2024-01-02 12:37:42.430203  | DiscountedReturn/Std              1.82549\n",
      "2024-01-02 12:37:42.430604  | DiscountedReturn/Median           4.09556\n",
      "2024-01-02 12:37:42.431139  | DiscountedReturn/Min              2.19344\n",
      "2024-01-02 12:37:42.432653  | DiscountedReturn/Max              7.41189\n",
      "2024-01-02 12:37:42.433141  | loss/Average                    nan\n",
      "2024-01-02 12:37:42.433790  | loss/Std                        nan\n",
      "2024-01-02 12:37:42.434255  | loss/Median                     nan\n",
      "2024-01-02 12:37:42.434644  | loss/Min                        nan\n",
      "2024-01-02 12:37:42.435026  | loss/Max                        nan\n",
      "2024-01-02 12:37:42.435402  | grad_norm_model/Average         nan\n",
      "2024-01-02 12:37:42.435787  | grad_norm_model/Std             nan\n",
      "2024-01-02 12:37:42.436219  | grad_norm_model/Median          nan\n",
      "2024-01-02 12:37:42.436657  | grad_norm_model/Min             nan\n",
      "2024-01-02 12:37:42.437035  | grad_norm_model/Max             nan\n",
      "2024-01-02 12:37:42.437421  | grad_norm_actor/Average         nan\n",
      "2024-01-02 12:37:42.437951  | grad_norm_actor/Std             nan\n",
      "2024-01-02 12:37:42.439672  | grad_norm_actor/Median          nan\n",
      "2024-01-02 12:37:42.440226  | grad_norm_actor/Min             nan\n",
      "2024-01-02 12:37:42.440687  | grad_norm_actor/Max             nan\n",
      "2024-01-02 12:37:42.441227  | grad_norm_value/Average         nan\n",
      "2024-01-02 12:37:42.441608  | grad_norm_value/Std             nan\n",
      "2024-01-02 12:37:42.442007  | grad_norm_value/Median          nan\n",
      "2024-01-02 12:37:42.442473  | grad_norm_value/Min             nan\n",
      "2024-01-02 12:37:42.443730  | grad_norm_value/Max             nan\n",
      "2024-01-02 12:37:42.444135  | model_loss/Average              nan\n",
      "2024-01-02 12:37:42.444727  | model_loss/Std                  nan\n",
      "2024-01-02 12:37:42.445192  | model_loss/Median               nan\n",
      "2024-01-02 12:37:42.445668  | model_loss/Min                  nan\n",
      "2024-01-02 12:37:42.446033  | model_loss/Max                  nan\n",
      "2024-01-02 12:37:42.446654  | actor_loss/Average              nan\n",
      "2024-01-02 12:37:42.447070  | actor_loss/Std                  nan\n",
      "2024-01-02 12:37:42.447385  | actor_loss/Median               nan\n",
      "2024-01-02 12:37:42.447828  | actor_loss/Min                  nan\n",
      "2024-01-02 12:37:42.448113  | actor_loss/Max                  nan\n",
      "2024-01-02 12:37:42.448514  | value_loss/Average              nan\n",
      "2024-01-02 12:37:42.448854  | value_loss/Std                  nan\n",
      "2024-01-02 12:37:42.449176  | value_loss/Median               nan\n",
      "2024-01-02 12:37:42.449461  | value_loss/Min                  nan\n",
      "2024-01-02 12:37:42.449884  | value_loss/Max                  nan\n",
      "2024-01-02 12:37:42.450261  | prior_entropy/Average           nan\n",
      "2024-01-02 12:37:42.450764  | prior_entropy/Std               nan\n",
      "2024-01-02 12:37:42.451088  | prior_entropy/Median            nan\n",
      "2024-01-02 12:37:42.451443  | prior_entropy/Min               nan\n",
      "2024-01-02 12:37:42.451762  | prior_entropy/Max               nan\n",
      "2024-01-02 12:37:42.452243  | post_entropy/Average            nan\n",
      "2024-01-02 12:37:42.452704  | post_entropy/Std                nan\n",
      "2024-01-02 12:37:42.453030  | post_entropy/Median             nan\n",
      "2024-01-02 12:37:42.453452  | post_entropy/Min                nan\n",
      "2024-01-02 12:37:42.453753  | post_entropy/Max                nan\n",
      "2024-01-02 12:37:42.454088  | divergence/Average              nan\n",
      "2024-01-02 12:37:42.454785  | divergence/Std                  nan\n",
      "2024-01-02 12:37:42.455075  | divergence/Median               nan\n",
      "2024-01-02 12:37:42.455428  | divergence/Min                  nan\n",
      "2024-01-02 12:37:42.455745  | divergence/Max                  nan\n",
      "2024-01-02 12:37:42.456047  | reward_loss/Average             nan\n",
      "2024-01-02 12:37:42.456334  | reward_loss/Std                 nan\n",
      "2024-01-02 12:37:42.456639  | reward_loss/Median              nan\n",
      "2024-01-02 12:37:42.456933  | reward_loss/Min                 nan\n",
      "2024-01-02 12:37:42.457223  | reward_loss/Max                 nan\n",
      "2024-01-02 12:37:42.457637  | image_loss/Average              nan\n",
      "2024-01-02 12:37:42.457966  | image_loss/Std                  nan\n",
      "2024-01-02 12:37:42.459301  | image_loss/Median               nan\n",
      "2024-01-02 12:37:42.459843  | image_loss/Min                  nan\n",
      "2024-01-02 12:37:42.460670  | image_loss/Max                  nan\n",
      "2024-01-02 12:37:42.462090  | pcont_loss/Average              nan\n",
      "2024-01-02 12:37:42.462857  | pcont_loss/Std                  nan\n",
      "2024-01-02 12:37:42.463354  | pcont_loss/Median               nan\n",
      "2024-01-02 12:37:42.463794  | pcont_loss/Min                  nan\n",
      "2024-01-02 12:37:42.464563  | pcont_loss/Max                  nan\n",
      "2024-01-02 12:37:42.465207  | -----------------------------  ----------\n",
      "2024-01-02 12:37:42.466102  | dreamer_humanoid_stand_0 itr #2999 Optimizing over 1000 iterations.\n",
      "Warning: No valid output stream.\n",
      "2024-01-02 12:37:51.130199  | dreamer_humanoid_stand_0 itr #3999 saving snapshot...\n",
      "2024-01-02 12:37:51.165584  | dreamer_humanoid_stand_0 itr #3999 saved\n",
      "2024-01-02 12:37:51.172146  | -----------------------------  ----------\n",
      "2024-01-02 12:37:51.172796  | Diagnostics/NewCompletedTrajs     2\n",
      "2024-01-02 12:37:51.173209  | Diagnostics/StepsInTrajWindow  4000\n",
      "2024-01-02 12:37:51.173594  | Diagnostics/Iteration          3999\n",
      "2024-01-02 12:37:51.174353  | Diagnostics/CumTime (s)          34.7913\n",
      "2024-01-02 12:37:51.175009  | Diagnostics/CumSteps           4000\n",
      "2024-01-02 12:37:51.175624  | Diagnostics/CumCompletedTrajs     8\n",
      "2024-01-02 12:37:51.176171  | Diagnostics/CumUpdates            0\n",
      "2024-01-02 12:37:51.176660  | Diagnostics/StepsPerSecond      114.194\n",
      "2024-01-02 12:37:51.176989  | Diagnostics/UpdatesPerSecond      0\n",
      "2024-01-02 12:37:51.177551  | Diagnostics/ReplayRatio           0\n",
      "2024-01-02 12:37:51.178088  | Diagnostics/CumReplayRatio        0\n",
      "2024-01-02 12:37:51.178550  | Length/Average                  500\n",
      "2024-01-02 12:37:51.179020  | Length/Std                        0\n",
      "2024-01-02 12:37:51.179421  | Length/Median                   500\n",
      "2024-01-02 12:37:51.180027  | Length/Min                      500\n",
      "2024-01-02 12:37:51.181128  | Length/Max                      500\n",
      "2024-01-02 12:37:51.181591  | Return/Average                    4.58848\n",
      "2024-01-02 12:37:51.182030  | Return/Std                        1.87082\n",
      "2024-01-02 12:37:51.182765  | Return/Median                     4.18237\n",
      "2024-01-02 12:37:51.183279  | Return/Min                        2.21223\n",
      "2024-01-02 12:37:51.184043  | Return/Max                        7.60394\n",
      "2024-01-02 12:37:51.184555  | NonzeroRewards/Average          500\n",
      "2024-01-02 12:37:51.185290  | NonzeroRewards/Std                0\n",
      "2024-01-02 12:37:51.185888  | NonzeroRewards/Median           500\n",
      "2024-01-02 12:37:51.186524  | NonzeroRewards/Min              500\n",
      "2024-01-02 12:37:51.187110  | NonzeroRewards/Max              500\n",
      "2024-01-02 12:37:51.187604  | DiscountedReturn/Average          4.49056\n",
      "2024-01-02 12:37:51.188072  | DiscountedReturn/Std              1.8127\n",
      "2024-01-02 12:37:51.188604  | DiscountedReturn/Median           4.09556\n",
      "2024-01-02 12:37:51.189529  | DiscountedReturn/Min              2.19344\n",
      "2024-01-02 12:37:51.190043  | DiscountedReturn/Max              7.41189\n",
      "2024-01-02 12:37:51.190680  | loss/Average                    nan\n",
      "2024-01-02 12:37:51.191257  | loss/Std                        nan\n",
      "2024-01-02 12:37:51.192025  | loss/Median                     nan\n",
      "2024-01-02 12:37:51.192444  | loss/Min                        nan\n",
      "2024-01-02 12:37:51.192879  | loss/Max                        nan\n",
      "2024-01-02 12:37:51.193308  | grad_norm_model/Average         nan\n",
      "2024-01-02 12:37:51.193735  | grad_norm_model/Std             nan\n",
      "2024-01-02 12:37:51.194150  | grad_norm_model/Median          nan\n",
      "2024-01-02 12:37:51.194591  | grad_norm_model/Min             nan\n",
      "2024-01-02 12:37:51.195130  | grad_norm_model/Max             nan\n",
      "2024-01-02 12:37:51.196669  | grad_norm_actor/Average         nan\n",
      "2024-01-02 12:37:51.197131  | grad_norm_actor/Std             nan\n",
      "2024-01-02 12:37:51.197663  | grad_norm_actor/Median          nan\n",
      "2024-01-02 12:37:51.198094  | grad_norm_actor/Min             nan\n",
      "2024-01-02 12:37:51.198912  | grad_norm_actor/Max             nan\n",
      "2024-01-02 12:37:51.199357  | grad_norm_value/Average         nan\n",
      "2024-01-02 12:37:51.199693  | grad_norm_value/Std             nan\n",
      "2024-01-02 12:37:51.200367  | grad_norm_value/Median          nan\n",
      "2024-01-02 12:37:51.200715  | grad_norm_value/Min             nan\n",
      "2024-01-02 12:37:51.201051  | grad_norm_value/Max             nan\n",
      "2024-01-02 12:37:51.201710  | model_loss/Average              nan\n",
      "2024-01-02 12:37:51.202241  | model_loss/Std                  nan\n",
      "2024-01-02 12:37:51.202730  | model_loss/Median               nan\n",
      "2024-01-02 12:37:51.203280  | model_loss/Min                  nan\n",
      "2024-01-02 12:37:51.203786  | model_loss/Max                  nan\n",
      "2024-01-02 12:37:51.204303  | actor_loss/Average              nan\n",
      "2024-01-02 12:37:51.204821  | actor_loss/Std                  nan\n",
      "2024-01-02 12:37:51.205231  | actor_loss/Median               nan\n",
      "2024-01-02 12:37:51.205706  | actor_loss/Min                  nan\n",
      "2024-01-02 12:37:51.206183  | actor_loss/Max                  nan\n",
      "2024-01-02 12:37:51.206501  | value_loss/Average              nan\n",
      "2024-01-02 12:37:51.206836  | value_loss/Std                  nan\n",
      "2024-01-02 12:37:51.207416  | value_loss/Median               nan\n",
      "2024-01-02 12:37:51.207874  | value_loss/Min                  nan\n",
      "2024-01-02 12:37:51.208488  | value_loss/Max                  nan\n",
      "2024-01-02 12:37:51.209143  | prior_entropy/Average           nan\n",
      "2024-01-02 12:37:51.209611  | prior_entropy/Std               nan\n",
      "2024-01-02 12:37:51.210065  | prior_entropy/Median            nan\n",
      "2024-01-02 12:37:51.210472  | prior_entropy/Min               nan\n",
      "2024-01-02 12:37:51.211276  | prior_entropy/Max               nan\n",
      "2024-01-02 12:37:51.211773  | post_entropy/Average            nan\n",
      "2024-01-02 12:37:51.212500  | post_entropy/Std                nan\n",
      "2024-01-02 12:37:51.213126  | post_entropy/Median             nan\n",
      "2024-01-02 12:37:51.213823  | post_entropy/Min                nan\n",
      "2024-01-02 12:37:51.214461  | post_entropy/Max                nan\n",
      "2024-01-02 12:37:51.214789  | divergence/Average              nan\n",
      "2024-01-02 12:37:51.215346  | divergence/Std                  nan\n",
      "2024-01-02 12:37:51.215828  | divergence/Median               nan\n",
      "2024-01-02 12:37:51.216209  | divergence/Min                  nan\n",
      "2024-01-02 12:37:51.216733  | divergence/Max                  nan\n",
      "2024-01-02 12:37:51.217306  | reward_loss/Average             nan\n",
      "2024-01-02 12:37:51.217843  | reward_loss/Std                 nan\n",
      "2024-01-02 12:37:51.218415  | reward_loss/Median              nan\n",
      "2024-01-02 12:37:51.218828  | reward_loss/Min                 nan\n",
      "2024-01-02 12:37:51.219323  | reward_loss/Max                 nan\n",
      "2024-01-02 12:37:51.219691  | image_loss/Average              nan\n",
      "2024-01-02 12:37:51.219991  | image_loss/Std                  nan\n",
      "2024-01-02 12:37:51.220522  | image_loss/Median               nan\n",
      "2024-01-02 12:37:51.220928  | image_loss/Min                  nan\n",
      "2024-01-02 12:37:51.221271  | image_loss/Max                  nan\n",
      "2024-01-02 12:37:51.221781  | pcont_loss/Average              nan\n",
      "2024-01-02 12:37:51.222159  | pcont_loss/Std                  nan\n",
      "2024-01-02 12:37:51.222461  | pcont_loss/Median               nan\n",
      "2024-01-02 12:37:51.222985  | pcont_loss/Min                  nan\n",
      "2024-01-02 12:37:51.223365  | pcont_loss/Max                  nan\n",
      "2024-01-02 12:37:51.223708  | -----------------------------  ----------\n",
      "2024-01-02 12:37:51.224579  | dreamer_humanoid_stand_0 itr #3999 Optimizing over 1000 iterations.\n",
      "Warning: No valid output stream.\n",
      "2024-01-02 12:38:00.061563  | dreamer_humanoid_stand_0 itr #4999 saving snapshot...\n",
      "2024-01-02 12:38:00.104689  | dreamer_humanoid_stand_0 itr #4999 saved\n",
      "2024-01-02 12:38:00.110786  | -----------------------------  ----------\n",
      "2024-01-02 12:38:00.111495  | Diagnostics/NewCompletedTrajs     2\n",
      "2024-01-02 12:38:00.112013  | Diagnostics/StepsInTrajWindow  5000\n",
      "2024-01-02 12:38:00.112342  | Diagnostics/Iteration          4999\n",
      "2024-01-02 12:38:00.112720  | Diagnostics/CumTime (s)          43.7305\n",
      "2024-01-02 12:38:00.113204  | Diagnostics/CumSteps           5000\n",
      "2024-01-02 12:38:00.113782  | Diagnostics/CumCompletedTrajs    10\n",
      "2024-01-02 12:38:00.114187  | Diagnostics/CumUpdates            0\n",
      "2024-01-02 12:38:00.114585  | Diagnostics/StepsPerSecond      111.867\n",
      "2024-01-02 12:38:00.114998  | Diagnostics/UpdatesPerSecond      0\n",
      "2024-01-02 12:38:00.115494  | Diagnostics/ReplayRatio           0\n",
      "2024-01-02 12:38:00.115808  | Diagnostics/CumReplayRatio        0\n",
      "2024-01-02 12:38:00.116089  | Length/Average                  500\n",
      "2024-01-02 12:38:00.116547  | Length/Std                        0\n",
      "2024-01-02 12:38:00.116947  | Length/Median                   500\n",
      "2024-01-02 12:38:00.117365  | Length/Min                      500\n",
      "2024-01-02 12:38:00.117724  | Length/Max                      500\n",
      "2024-01-02 12:38:00.118106  | Return/Average                    4.73432\n",
      "2024-01-02 12:38:00.118663  | Return/Std                        2.28664\n",
      "2024-01-02 12:38:00.119071  | Return/Median                     4.18237\n",
      "2024-01-02 12:38:00.119446  | Return/Min                        1.89447\n",
      "2024-01-02 12:38:00.119786  | Return/Max                        8.74087\n",
      "2024-01-02 12:38:00.120088  | NonzeroRewards/Average          500\n",
      "2024-01-02 12:38:00.120583  | NonzeroRewards/Std                0\n",
      "2024-01-02 12:38:00.120919  | NonzeroRewards/Median           500\n",
      "2024-01-02 12:38:00.121229  | NonzeroRewards/Min              500\n",
      "2024-01-02 12:38:00.121539  | NonzeroRewards/Max              500\n",
      "2024-01-02 12:38:00.122180  | DiscountedReturn/Average          4.63056\n",
      "2024-01-02 12:38:00.122592  | DiscountedReturn/Std              2.21983\n",
      "2024-01-02 12:38:00.122908  | DiscountedReturn/Median           4.09556\n",
      "2024-01-02 12:38:00.123380  | DiscountedReturn/Min              1.85847\n",
      "2024-01-02 12:38:00.123697  | DiscountedReturn/Max              8.52265\n",
      "2024-01-02 12:38:00.124015  | loss/Average                    nan\n",
      "2024-01-02 12:38:00.124316  | loss/Std                        nan\n",
      "2024-01-02 12:38:00.124643  | loss/Median                     nan\n",
      "2024-01-02 12:38:00.124950  | loss/Min                        nan\n",
      "2024-01-02 12:38:00.125603  | loss/Max                        nan\n",
      "2024-01-02 12:38:00.125870  | grad_norm_model/Average         nan\n",
      "2024-01-02 12:38:00.126279  | grad_norm_model/Std             nan\n",
      "2024-01-02 12:38:00.126606  | grad_norm_model/Median          nan\n",
      "2024-01-02 12:38:00.127019  | grad_norm_model/Min             nan\n",
      "2024-01-02 12:38:00.127426  | grad_norm_model/Max             nan\n",
      "2024-01-02 12:38:00.127753  | grad_norm_actor/Average         nan\n",
      "2024-01-02 12:38:00.128171  | grad_norm_actor/Std             nan\n",
      "2024-01-02 12:38:00.128511  | grad_norm_actor/Median          nan\n",
      "2024-01-02 12:38:00.128904  | grad_norm_actor/Min             nan\n",
      "2024-01-02 12:38:00.129247  | grad_norm_actor/Max             nan\n",
      "2024-01-02 12:38:00.129567  | grad_norm_value/Average         nan\n",
      "2024-01-02 12:38:00.129879  | grad_norm_value/Std             nan\n",
      "2024-01-02 12:38:00.130399  | grad_norm_value/Median          nan\n",
      "2024-01-02 12:38:00.130689  | grad_norm_value/Min             nan\n",
      "2024-01-02 12:38:00.131010  | grad_norm_value/Max             nan\n",
      "2024-01-02 12:38:00.131284  | model_loss/Average              nan\n",
      "2024-01-02 12:38:00.131548  | model_loss/Std                  nan\n",
      "2024-01-02 12:38:00.132210  | model_loss/Median               nan\n",
      "2024-01-02 12:38:00.132573  | model_loss/Min                  nan\n",
      "2024-01-02 12:38:00.132871  | model_loss/Max                  nan\n",
      "2024-01-02 12:38:00.133188  | actor_loss/Average              nan\n",
      "2024-01-02 12:38:00.133473  | actor_loss/Std                  nan\n",
      "2024-01-02 12:38:00.134130  | actor_loss/Median               nan\n",
      "2024-01-02 12:38:00.134468  | actor_loss/Min                  nan\n",
      "2024-01-02 12:38:00.134792  | actor_loss/Max                  nan\n",
      "2024-01-02 12:38:00.135091  | value_loss/Average              nan\n",
      "2024-01-02 12:38:00.135433  | value_loss/Std                  nan\n",
      "2024-01-02 12:38:00.135798  | value_loss/Median               nan\n",
      "2024-01-02 12:38:00.136203  | value_loss/Min                  nan\n",
      "2024-01-02 12:38:00.136452  | value_loss/Max                  nan\n",
      "2024-01-02 12:38:00.137320  | prior_entropy/Average           nan\n",
      "2024-01-02 12:38:00.137623  | prior_entropy/Std               nan\n",
      "2024-01-02 12:38:00.137971  | prior_entropy/Median            nan\n",
      "2024-01-02 12:38:00.138577  | prior_entropy/Min               nan\n",
      "2024-01-02 12:38:00.139136  | prior_entropy/Max               nan\n",
      "2024-01-02 12:38:00.139865  | post_entropy/Average            nan\n",
      "2024-01-02 12:38:00.140290  | post_entropy/Std                nan\n",
      "2024-01-02 12:38:00.140732  | post_entropy/Median             nan\n",
      "2024-01-02 12:38:00.141520  | post_entropy/Min                nan\n",
      "2024-01-02 12:38:00.142383  | post_entropy/Max                nan\n",
      "2024-01-02 12:38:00.143668  | divergence/Average              nan\n",
      "2024-01-02 12:38:00.144197  | divergence/Std                  nan\n",
      "2024-01-02 12:38:00.145190  | divergence/Median               nan\n",
      "2024-01-02 12:38:00.145986  | divergence/Min                  nan\n",
      "2024-01-02 12:38:00.147267  | divergence/Max                  nan\n",
      "2024-01-02 12:38:00.147868  | reward_loss/Average             nan\n",
      "2024-01-02 12:38:00.148662  | reward_loss/Std                 nan\n",
      "2024-01-02 12:38:00.149497  | reward_loss/Median              nan\n",
      "2024-01-02 12:38:00.150040  | reward_loss/Min                 nan\n",
      "2024-01-02 12:38:00.151584  | reward_loss/Max                 nan\n",
      "2024-01-02 12:38:00.152590  | image_loss/Average              nan\n",
      "2024-01-02 12:38:00.153810  | image_loss/Std                  nan\n",
      "2024-01-02 12:38:00.154529  | image_loss/Median               nan\n",
      "2024-01-02 12:38:00.155167  | image_loss/Min                  nan\n",
      "2024-01-02 12:38:00.155615  | image_loss/Max                  nan\n",
      "2024-01-02 12:38:00.156260  | pcont_loss/Average              nan\n",
      "2024-01-02 12:38:00.156950  | pcont_loss/Std                  nan\n",
      "2024-01-02 12:38:00.157728  | pcont_loss/Median               nan\n",
      "2024-01-02 12:38:00.158300  | pcont_loss/Min                  nan\n",
      "2024-01-02 12:38:00.158769  | pcont_loss/Max                  nan\n",
      "2024-01-02 12:38:00.159567  | -----------------------------  ----------\n",
      "2024-01-02 12:38:00.160280  | dreamer_humanoid_stand_0 itr #4999 Optimizing over 1000 iterations.\n",
      "Warning: No valid output stream.\n"
     ]
    },
    {
     "name": "stderr",
     "output_type": "stream",
     "text": [
      "Imagination:   0%|          | 0/100 [00:00<?, ?it/s]"
     ]
    },
    {
     "name": "stdout",
     "output_type": "stream",
     "text": [
      " DIMENSIONI DELL INITIAL STATE.STOCH =  torch.Size([50, 30])\n"
     ]
    },
    {
     "name": "stderr",
     "output_type": "stream",
     "text": [
      "Imagination:   1%|          | 1/100 [00:01<02:24,  1.46s/it]"
     ]
    },
    {
     "name": "stdout",
     "output_type": "stream",
     "text": [
      " DIMENSIONI DELL INITIAL STATE.STOCH =  torch.Size([50, 30])\n"
     ]
    },
    {
     "name": "stderr",
     "output_type": "stream",
     "text": [
      "Imagination:   2%|▏         | 2/100 [00:02<02:11,  1.34s/it]"
     ]
    },
    {
     "name": "stdout",
     "output_type": "stream",
     "text": [
      " DIMENSIONI DELL INITIAL STATE.STOCH =  torch.Size([50, 30])\n"
     ]
    },
    {
     "name": "stderr",
     "output_type": "stream",
     "text": [
      "Imagination:   3%|▎         | 3/100 [00:04<02:10,  1.35s/it]"
     ]
    },
    {
     "name": "stdout",
     "output_type": "stream",
     "text": [
      " DIMENSIONI DELL INITIAL STATE.STOCH =  torch.Size([50, 30])\n"
     ]
    },
    {
     "name": "stderr",
     "output_type": "stream",
     "text": [
      "Imagination:   4%|▍         | 4/100 [00:05<02:07,  1.32s/it]"
     ]
    },
    {
     "name": "stdout",
     "output_type": "stream",
     "text": [
      " DIMENSIONI DELL INITIAL STATE.STOCH =  torch.Size([50, 30])\n"
     ]
    },
    {
     "name": "stderr",
     "output_type": "stream",
     "text": [
      "Imagination:   5%|▌         | 5/100 [00:06<02:02,  1.29s/it]"
     ]
    },
    {
     "name": "stdout",
     "output_type": "stream",
     "text": [
      " DIMENSIONI DELL INITIAL STATE.STOCH =  torch.Size([50, 30])\n"
     ]
    },
    {
     "name": "stderr",
     "output_type": "stream",
     "text": [
      "Imagination:   6%|▌         | 6/100 [00:07<01:59,  1.27s/it]"
     ]
    },
    {
     "name": "stdout",
     "output_type": "stream",
     "text": [
      " DIMENSIONI DELL INITIAL STATE.STOCH =  torch.Size([50, 30])\n"
     ]
    },
    {
     "name": "stderr",
     "output_type": "stream",
     "text": [
      "Imagination:   7%|▋         | 7/100 [00:09<01:56,  1.25s/it]"
     ]
    },
    {
     "name": "stdout",
     "output_type": "stream",
     "text": [
      " DIMENSIONI DELL INITIAL STATE.STOCH =  torch.Size([50, 30])\n"
     ]
    },
    {
     "name": "stderr",
     "output_type": "stream",
     "text": [
      "Imagination:   8%|▊         | 8/100 [00:10<01:53,  1.23s/it]"
     ]
    },
    {
     "name": "stdout",
     "output_type": "stream",
     "text": [
      " DIMENSIONI DELL INITIAL STATE.STOCH =  torch.Size([50, 30])\n"
     ]
    },
    {
     "name": "stderr",
     "output_type": "stream",
     "text": [
      "Imagination:   9%|▉         | 9/100 [00:11<01:51,  1.23s/it]"
     ]
    },
    {
     "name": "stdout",
     "output_type": "stream",
     "text": [
      " DIMENSIONI DELL INITIAL STATE.STOCH =  torch.Size([50, 30])\n"
     ]
    },
    {
     "name": "stderr",
     "output_type": "stream",
     "text": [
      "Imagination:  10%|█         | 10/100 [00:12<01:50,  1.23s/it]"
     ]
    },
    {
     "name": "stdout",
     "output_type": "stream",
     "text": [
      " DIMENSIONI DELL INITIAL STATE.STOCH =  torch.Size([50, 30])\n"
     ]
    },
    {
     "name": "stderr",
     "output_type": "stream",
     "text": [
      "Imagination:  11%|█         | 11/100 [00:13<01:48,  1.22s/it]"
     ]
    },
    {
     "name": "stdout",
     "output_type": "stream",
     "text": [
      " DIMENSIONI DELL INITIAL STATE.STOCH =  torch.Size([50, 30])\n"
     ]
    },
    {
     "name": "stderr",
     "output_type": "stream",
     "text": [
      "Imagination:  12%|█▏        | 12/100 [00:15<01:47,  1.22s/it]"
     ]
    },
    {
     "name": "stdout",
     "output_type": "stream",
     "text": [
      " DIMENSIONI DELL INITIAL STATE.STOCH =  torch.Size([50, 30])\n"
     ]
    },
    {
     "name": "stderr",
     "output_type": "stream",
     "text": [
      "Imagination:  13%|█▎        | 13/100 [00:16<01:46,  1.22s/it]"
     ]
    },
    {
     "name": "stdout",
     "output_type": "stream",
     "text": [
      " DIMENSIONI DELL INITIAL STATE.STOCH =  torch.Size([50, 30])\n"
     ]
    },
    {
     "name": "stderr",
     "output_type": "stream",
     "text": [
      "Imagination:  14%|█▍        | 14/100 [00:17<01:45,  1.23s/it]"
     ]
    },
    {
     "name": "stdout",
     "output_type": "stream",
     "text": [
      " DIMENSIONI DELL INITIAL STATE.STOCH =  torch.Size([50, 30])\n"
     ]
    },
    {
     "name": "stderr",
     "output_type": "stream",
     "text": [
      "Imagination:  15%|█▌        | 15/100 [00:18<01:44,  1.23s/it]"
     ]
    },
    {
     "name": "stdout",
     "output_type": "stream",
     "text": [
      " DIMENSIONI DELL INITIAL STATE.STOCH =  torch.Size([50, 30])\n"
     ]
    },
    {
     "name": "stderr",
     "output_type": "stream",
     "text": [
      "Imagination:  16%|█▌        | 16/100 [00:20<01:43,  1.23s/it]"
     ]
    },
    {
     "name": "stdout",
     "output_type": "stream",
     "text": [
      " DIMENSIONI DELL INITIAL STATE.STOCH =  torch.Size([50, 30])\n"
     ]
    },
    {
     "name": "stderr",
     "output_type": "stream",
     "text": [
      "Imagination:  17%|█▋        | 17/100 [00:21<01:41,  1.22s/it]"
     ]
    },
    {
     "name": "stdout",
     "output_type": "stream",
     "text": [
      " DIMENSIONI DELL INITIAL STATE.STOCH =  torch.Size([50, 30])\n"
     ]
    },
    {
     "name": "stderr",
     "output_type": "stream",
     "text": [
      "Imagination:  18%|█▊        | 18/100 [00:22<01:40,  1.22s/it]"
     ]
    },
    {
     "name": "stdout",
     "output_type": "stream",
     "text": [
      " DIMENSIONI DELL INITIAL STATE.STOCH =  torch.Size([50, 30])\n"
     ]
    },
    {
     "name": "stderr",
     "output_type": "stream",
     "text": [
      "Imagination:  19%|█▉        | 19/100 [00:23<01:38,  1.22s/it]"
     ]
    },
    {
     "name": "stdout",
     "output_type": "stream",
     "text": [
      " DIMENSIONI DELL INITIAL STATE.STOCH =  torch.Size([50, 30])\n"
     ]
    },
    {
     "name": "stderr",
     "output_type": "stream",
     "text": [
      "Imagination:  20%|██        | 20/100 [00:24<01:37,  1.22s/it]"
     ]
    },
    {
     "name": "stdout",
     "output_type": "stream",
     "text": [
      " DIMENSIONI DELL INITIAL STATE.STOCH =  torch.Size([50, 30])\n"
     ]
    },
    {
     "name": "stderr",
     "output_type": "stream",
     "text": [
      "Imagination:  21%|██        | 21/100 [00:26<01:36,  1.22s/it]"
     ]
    },
    {
     "name": "stdout",
     "output_type": "stream",
     "text": [
      " DIMENSIONI DELL INITIAL STATE.STOCH =  torch.Size([50, 30])\n"
     ]
    },
    {
     "name": "stderr",
     "output_type": "stream",
     "text": [
      "Imagination:  22%|██▏       | 22/100 [00:27<01:35,  1.22s/it]"
     ]
    },
    {
     "name": "stdout",
     "output_type": "stream",
     "text": [
      " DIMENSIONI DELL INITIAL STATE.STOCH =  torch.Size([50, 30])\n"
     ]
    },
    {
     "name": "stderr",
     "output_type": "stream",
     "text": [
      "Imagination:  23%|██▎       | 23/100 [00:28<01:35,  1.24s/it]"
     ]
    },
    {
     "name": "stdout",
     "output_type": "stream",
     "text": [
      " DIMENSIONI DELL INITIAL STATE.STOCH =  torch.Size([50, 30])\n"
     ]
    },
    {
     "name": "stderr",
     "output_type": "stream",
     "text": [
      "Imagination:  24%|██▍       | 24/100 [00:29<01:35,  1.25s/it]"
     ]
    },
    {
     "name": "stdout",
     "output_type": "stream",
     "text": [
      " DIMENSIONI DELL INITIAL STATE.STOCH =  torch.Size([50, 30])\n"
     ]
    },
    {
     "name": "stderr",
     "output_type": "stream",
     "text": [
      "Imagination:  25%|██▌       | 25/100 [00:31<01:34,  1.25s/it]"
     ]
    },
    {
     "name": "stdout",
     "output_type": "stream",
     "text": [
      " DIMENSIONI DELL INITIAL STATE.STOCH =  torch.Size([50, 30])\n"
     ]
    },
    {
     "name": "stderr",
     "output_type": "stream",
     "text": [
      "Imagination:  26%|██▌       | 26/100 [00:32<01:34,  1.27s/it]"
     ]
    },
    {
     "name": "stdout",
     "output_type": "stream",
     "text": [
      " DIMENSIONI DELL INITIAL STATE.STOCH =  torch.Size([50, 30])\n"
     ]
    },
    {
     "name": "stderr",
     "output_type": "stream",
     "text": [
      "Imagination:  27%|██▋       | 27/100 [00:33<01:36,  1.32s/it]"
     ]
    },
    {
     "name": "stdout",
     "output_type": "stream",
     "text": [
      " DIMENSIONI DELL INITIAL STATE.STOCH =  torch.Size([50, 30])\n"
     ]
    },
    {
     "name": "stderr",
     "output_type": "stream",
     "text": [
      "Imagination:  28%|██▊       | 28/100 [00:35<01:34,  1.32s/it]"
     ]
    },
    {
     "name": "stdout",
     "output_type": "stream",
     "text": [
      " DIMENSIONI DELL INITIAL STATE.STOCH =  torch.Size([50, 30])\n"
     ]
    },
    {
     "name": "stderr",
     "output_type": "stream",
     "text": [
      "Imagination:  29%|██▉       | 29/100 [00:36<01:33,  1.32s/it]"
     ]
    },
    {
     "name": "stdout",
     "output_type": "stream",
     "text": [
      " DIMENSIONI DELL INITIAL STATE.STOCH =  torch.Size([50, 30])\n"
     ]
    },
    {
     "name": "stderr",
     "output_type": "stream",
     "text": [
      "Imagination:  30%|███       | 30/100 [00:37<01:31,  1.30s/it]"
     ]
    },
    {
     "name": "stdout",
     "output_type": "stream",
     "text": [
      " DIMENSIONI DELL INITIAL STATE.STOCH =  torch.Size([50, 30])\n"
     ]
    },
    {
     "name": "stderr",
     "output_type": "stream",
     "text": [
      "Imagination:  31%|███       | 31/100 [00:39<01:28,  1.29s/it]"
     ]
    },
    {
     "name": "stdout",
     "output_type": "stream",
     "text": [
      " DIMENSIONI DELL INITIAL STATE.STOCH =  torch.Size([50, 30])\n"
     ]
    },
    {
     "name": "stderr",
     "output_type": "stream",
     "text": [
      "Imagination:  32%|███▏      | 32/100 [00:40<01:27,  1.29s/it]"
     ]
    },
    {
     "name": "stdout",
     "output_type": "stream",
     "text": [
      " DIMENSIONI DELL INITIAL STATE.STOCH =  torch.Size([50, 30])\n"
     ]
    },
    {
     "name": "stderr",
     "output_type": "stream",
     "text": [
      "Imagination:  33%|███▎      | 33/100 [00:41<01:26,  1.29s/it]"
     ]
    },
    {
     "name": "stdout",
     "output_type": "stream",
     "text": [
      " DIMENSIONI DELL INITIAL STATE.STOCH =  torch.Size([50, 30])\n"
     ]
    },
    {
     "name": "stderr",
     "output_type": "stream",
     "text": [
      "Imagination:  34%|███▍      | 34/100 [00:42<01:25,  1.29s/it]"
     ]
    },
    {
     "name": "stdout",
     "output_type": "stream",
     "text": [
      " DIMENSIONI DELL INITIAL STATE.STOCH =  torch.Size([50, 30])\n"
     ]
    },
    {
     "name": "stderr",
     "output_type": "stream",
     "text": [
      "Imagination:  35%|███▌      | 35/100 [00:44<01:24,  1.30s/it]"
     ]
    },
    {
     "name": "stdout",
     "output_type": "stream",
     "text": [
      " DIMENSIONI DELL INITIAL STATE.STOCH =  torch.Size([50, 30])\n"
     ]
    },
    {
     "name": "stderr",
     "output_type": "stream",
     "text": [
      "Imagination:  36%|███▌      | 36/100 [00:45<01:23,  1.30s/it]"
     ]
    },
    {
     "name": "stdout",
     "output_type": "stream",
     "text": [
      " DIMENSIONI DELL INITIAL STATE.STOCH =  torch.Size([50, 30])\n"
     ]
    },
    {
     "name": "stderr",
     "output_type": "stream",
     "text": [
      "Imagination:  37%|███▋      | 37/100 [00:46<01:22,  1.30s/it]"
     ]
    },
    {
     "name": "stdout",
     "output_type": "stream",
     "text": [
      " DIMENSIONI DELL INITIAL STATE.STOCH =  torch.Size([50, 30])\n"
     ]
    },
    {
     "name": "stderr",
     "output_type": "stream",
     "text": [
      "Imagination:  38%|███▊      | 38/100 [00:48<01:21,  1.32s/it]"
     ]
    },
    {
     "name": "stdout",
     "output_type": "stream",
     "text": [
      " DIMENSIONI DELL INITIAL STATE.STOCH =  torch.Size([50, 30])\n"
     ]
    },
    {
     "name": "stderr",
     "output_type": "stream",
     "text": [
      "Imagination:  39%|███▉      | 39/100 [00:49<01:20,  1.32s/it]"
     ]
    },
    {
     "name": "stdout",
     "output_type": "stream",
     "text": [
      " DIMENSIONI DELL INITIAL STATE.STOCH =  torch.Size([50, 30])\n"
     ]
    },
    {
     "name": "stderr",
     "output_type": "stream",
     "text": [
      "Imagination:  40%|████      | 40/100 [00:50<01:19,  1.32s/it]"
     ]
    },
    {
     "name": "stdout",
     "output_type": "stream",
     "text": [
      " DIMENSIONI DELL INITIAL STATE.STOCH =  torch.Size([50, 30])\n"
     ]
    },
    {
     "name": "stderr",
     "output_type": "stream",
     "text": [
      "Imagination:  41%|████      | 41/100 [00:52<01:18,  1.33s/it]"
     ]
    },
    {
     "name": "stdout",
     "output_type": "stream",
     "text": [
      " DIMENSIONI DELL INITIAL STATE.STOCH =  torch.Size([50, 30])\n"
     ]
    },
    {
     "name": "stderr",
     "output_type": "stream",
     "text": [
      "Imagination:  42%|████▏     | 42/100 [00:53<01:17,  1.33s/it]"
     ]
    },
    {
     "name": "stdout",
     "output_type": "stream",
     "text": [
      " DIMENSIONI DELL INITIAL STATE.STOCH =  torch.Size([50, 30])\n"
     ]
    },
    {
     "name": "stderr",
     "output_type": "stream",
     "text": [
      "Imagination:  43%|████▎     | 43/100 [00:54<01:15,  1.33s/it]"
     ]
    },
    {
     "name": "stdout",
     "output_type": "stream",
     "text": [
      " DIMENSIONI DELL INITIAL STATE.STOCH =  torch.Size([50, 30])\n"
     ]
    },
    {
     "name": "stderr",
     "output_type": "stream",
     "text": [
      "Imagination:  44%|████▍     | 44/100 [00:56<01:14,  1.33s/it]"
     ]
    },
    {
     "name": "stdout",
     "output_type": "stream",
     "text": [
      " DIMENSIONI DELL INITIAL STATE.STOCH =  torch.Size([50, 30])\n"
     ]
    },
    {
     "name": "stderr",
     "output_type": "stream",
     "text": [
      "Imagination:  45%|████▌     | 45/100 [00:57<01:13,  1.33s/it]"
     ]
    },
    {
     "name": "stdout",
     "output_type": "stream",
     "text": [
      " DIMENSIONI DELL INITIAL STATE.STOCH =  torch.Size([50, 30])\n"
     ]
    },
    {
     "name": "stderr",
     "output_type": "stream",
     "text": [
      "Imagination:  46%|████▌     | 46/100 [00:58<01:11,  1.33s/it]"
     ]
    },
    {
     "name": "stdout",
     "output_type": "stream",
     "text": [
      " DIMENSIONI DELL INITIAL STATE.STOCH =  torch.Size([50, 30])\n"
     ]
    },
    {
     "name": "stderr",
     "output_type": "stream",
     "text": [
      "Imagination:  47%|████▋     | 47/100 [01:00<01:11,  1.34s/it]"
     ]
    },
    {
     "name": "stdout",
     "output_type": "stream",
     "text": [
      " DIMENSIONI DELL INITIAL STATE.STOCH =  torch.Size([50, 30])\n"
     ]
    },
    {
     "name": "stderr",
     "output_type": "stream",
     "text": [
      "Imagination:  48%|████▊     | 48/100 [01:01<01:09,  1.35s/it]"
     ]
    },
    {
     "name": "stdout",
     "output_type": "stream",
     "text": [
      " DIMENSIONI DELL INITIAL STATE.STOCH =  torch.Size([50, 30])\n"
     ]
    },
    {
     "name": "stderr",
     "output_type": "stream",
     "text": [
      "Imagination:  49%|████▉     | 49/100 [01:02<01:09,  1.36s/it]"
     ]
    },
    {
     "name": "stdout",
     "output_type": "stream",
     "text": [
      " DIMENSIONI DELL INITIAL STATE.STOCH =  torch.Size([50, 30])\n"
     ]
    },
    {
     "name": "stderr",
     "output_type": "stream",
     "text": [
      "Imagination:  50%|█████     | 50/100 [01:04<01:08,  1.37s/it]"
     ]
    },
    {
     "name": "stdout",
     "output_type": "stream",
     "text": [
      " DIMENSIONI DELL INITIAL STATE.STOCH =  torch.Size([50, 30])\n"
     ]
    },
    {
     "name": "stderr",
     "output_type": "stream",
     "text": [
      "Imagination:  51%|█████     | 51/100 [01:05<01:07,  1.38s/it]"
     ]
    },
    {
     "name": "stdout",
     "output_type": "stream",
     "text": [
      " DIMENSIONI DELL INITIAL STATE.STOCH =  torch.Size([50, 30])\n"
     ]
    },
    {
     "name": "stderr",
     "output_type": "stream",
     "text": [
      "Imagination:  52%|█████▏    | 52/100 [01:07<01:05,  1.36s/it]"
     ]
    },
    {
     "name": "stdout",
     "output_type": "stream",
     "text": [
      " DIMENSIONI DELL INITIAL STATE.STOCH =  torch.Size([50, 30])\n"
     ]
    },
    {
     "name": "stderr",
     "output_type": "stream",
     "text": [
      "Imagination:  53%|█████▎    | 53/100 [01:08<01:03,  1.35s/it]"
     ]
    },
    {
     "name": "stdout",
     "output_type": "stream",
     "text": [
      " DIMENSIONI DELL INITIAL STATE.STOCH =  torch.Size([50, 30])\n"
     ]
    },
    {
     "name": "stderr",
     "output_type": "stream",
     "text": [
      "Imagination:  54%|█████▍    | 54/100 [01:09<01:02,  1.35s/it]"
     ]
    },
    {
     "name": "stdout",
     "output_type": "stream",
     "text": [
      " DIMENSIONI DELL INITIAL STATE.STOCH =  torch.Size([50, 30])\n"
     ]
    },
    {
     "name": "stderr",
     "output_type": "stream",
     "text": [
      "Imagination:  55%|█████▌    | 55/100 [01:11<01:02,  1.39s/it]"
     ]
    },
    {
     "name": "stdout",
     "output_type": "stream",
     "text": [
      " DIMENSIONI DELL INITIAL STATE.STOCH =  torch.Size([50, 30])\n"
     ]
    },
    {
     "name": "stderr",
     "output_type": "stream",
     "text": [
      "Imagination:  56%|█████▌    | 56/100 [01:12<01:00,  1.37s/it]"
     ]
    },
    {
     "name": "stdout",
     "output_type": "stream",
     "text": [
      " DIMENSIONI DELL INITIAL STATE.STOCH =  torch.Size([50, 30])\n"
     ]
    },
    {
     "name": "stderr",
     "output_type": "stream",
     "text": [
      "Imagination:  57%|█████▋    | 57/100 [01:13<00:58,  1.35s/it]"
     ]
    },
    {
     "name": "stdout",
     "output_type": "stream",
     "text": [
      " DIMENSIONI DELL INITIAL STATE.STOCH =  torch.Size([50, 30])\n"
     ]
    },
    {
     "name": "stderr",
     "output_type": "stream",
     "text": [
      "Imagination:  58%|█████▊    | 58/100 [01:15<00:56,  1.35s/it]"
     ]
    },
    {
     "name": "stdout",
     "output_type": "stream",
     "text": [
      " DIMENSIONI DELL INITIAL STATE.STOCH =  torch.Size([50, 30])\n"
     ]
    },
    {
     "name": "stderr",
     "output_type": "stream",
     "text": [
      "Imagination:  59%|█████▉    | 59/100 [01:16<00:55,  1.36s/it]"
     ]
    },
    {
     "name": "stdout",
     "output_type": "stream",
     "text": [
      " DIMENSIONI DELL INITIAL STATE.STOCH =  torch.Size([50, 30])\n"
     ]
    },
    {
     "name": "stderr",
     "output_type": "stream",
     "text": [
      "Imagination:  60%|██████    | 60/100 [01:17<00:53,  1.35s/it]"
     ]
    },
    {
     "name": "stdout",
     "output_type": "stream",
     "text": [
      " DIMENSIONI DELL INITIAL STATE.STOCH =  torch.Size([50, 30])\n"
     ]
    },
    {
     "name": "stderr",
     "output_type": "stream",
     "text": [
      "Imagination:  61%|██████    | 61/100 [01:19<00:52,  1.34s/it]"
     ]
    },
    {
     "name": "stdout",
     "output_type": "stream",
     "text": [
      " DIMENSIONI DELL INITIAL STATE.STOCH =  torch.Size([50, 30])\n"
     ]
    },
    {
     "name": "stderr",
     "output_type": "stream",
     "text": [
      "Imagination:  62%|██████▏   | 62/100 [01:20<00:51,  1.35s/it]"
     ]
    },
    {
     "name": "stdout",
     "output_type": "stream",
     "text": [
      " DIMENSIONI DELL INITIAL STATE.STOCH =  torch.Size([50, 30])\n"
     ]
    },
    {
     "name": "stderr",
     "output_type": "stream",
     "text": [
      "Imagination:  63%|██████▎   | 63/100 [01:21<00:49,  1.35s/it]"
     ]
    },
    {
     "name": "stdout",
     "output_type": "stream",
     "text": [
      " DIMENSIONI DELL INITIAL STATE.STOCH =  torch.Size([50, 30])\n"
     ]
    },
    {
     "name": "stderr",
     "output_type": "stream",
     "text": [
      "Imagination:  64%|██████▍   | 64/100 [01:23<00:48,  1.35s/it]"
     ]
    },
    {
     "name": "stdout",
     "output_type": "stream",
     "text": [
      " DIMENSIONI DELL INITIAL STATE.STOCH =  torch.Size([50, 30])\n"
     ]
    },
    {
     "name": "stderr",
     "output_type": "stream",
     "text": [
      "Imagination:  65%|██████▌   | 65/100 [01:24<00:47,  1.35s/it]"
     ]
    },
    {
     "name": "stdout",
     "output_type": "stream",
     "text": [
      " DIMENSIONI DELL INITIAL STATE.STOCH =  torch.Size([50, 30])\n"
     ]
    },
    {
     "name": "stderr",
     "output_type": "stream",
     "text": [
      "Imagination:  66%|██████▌   | 66/100 [01:26<00:46,  1.35s/it]"
     ]
    },
    {
     "name": "stdout",
     "output_type": "stream",
     "text": [
      " DIMENSIONI DELL INITIAL STATE.STOCH =  torch.Size([50, 30])\n"
     ]
    },
    {
     "name": "stderr",
     "output_type": "stream",
     "text": [
      "Imagination:  67%|██████▋   | 67/100 [01:27<00:44,  1.35s/it]"
     ]
    },
    {
     "name": "stdout",
     "output_type": "stream",
     "text": [
      " DIMENSIONI DELL INITIAL STATE.STOCH =  torch.Size([50, 30])\n"
     ]
    },
    {
     "name": "stderr",
     "output_type": "stream",
     "text": [
      "Imagination:  68%|██████▊   | 68/100 [01:28<00:43,  1.35s/it]"
     ]
    },
    {
     "name": "stdout",
     "output_type": "stream",
     "text": [
      " DIMENSIONI DELL INITIAL STATE.STOCH =  torch.Size([50, 30])\n"
     ]
    },
    {
     "name": "stderr",
     "output_type": "stream",
     "text": [
      "Imagination:  69%|██████▉   | 69/100 [01:30<00:42,  1.36s/it]"
     ]
    },
    {
     "name": "stdout",
     "output_type": "stream",
     "text": [
      " DIMENSIONI DELL INITIAL STATE.STOCH =  torch.Size([50, 30])\n"
     ]
    },
    {
     "name": "stderr",
     "output_type": "stream",
     "text": [
      "Imagination:  70%|███████   | 70/100 [01:31<00:40,  1.35s/it]"
     ]
    },
    {
     "name": "stdout",
     "output_type": "stream",
     "text": [
      " DIMENSIONI DELL INITIAL STATE.STOCH =  torch.Size([50, 30])\n"
     ]
    },
    {
     "name": "stderr",
     "output_type": "stream",
     "text": [
      "Imagination:  71%|███████   | 71/100 [01:32<00:38,  1.34s/it]"
     ]
    },
    {
     "name": "stdout",
     "output_type": "stream",
     "text": [
      " DIMENSIONI DELL INITIAL STATE.STOCH =  torch.Size([50, 30])\n"
     ]
    },
    {
     "name": "stderr",
     "output_type": "stream",
     "text": [
      "Imagination:  72%|███████▏  | 72/100 [01:34<00:37,  1.33s/it]"
     ]
    },
    {
     "name": "stdout",
     "output_type": "stream",
     "text": [
      " DIMENSIONI DELL INITIAL STATE.STOCH =  torch.Size([50, 30])\n"
     ]
    },
    {
     "name": "stderr",
     "output_type": "stream",
     "text": [
      "Imagination:  73%|███████▎  | 73/100 [01:35<00:35,  1.32s/it]"
     ]
    },
    {
     "name": "stdout",
     "output_type": "stream",
     "text": [
      " DIMENSIONI DELL INITIAL STATE.STOCH =  torch.Size([50, 30])\n"
     ]
    },
    {
     "name": "stderr",
     "output_type": "stream",
     "text": [
      "Imagination:  74%|███████▍  | 74/100 [01:36<00:34,  1.34s/it]"
     ]
    },
    {
     "name": "stdout",
     "output_type": "stream",
     "text": [
      " DIMENSIONI DELL INITIAL STATE.STOCH =  torch.Size([50, 30])\n"
     ]
    },
    {
     "name": "stderr",
     "output_type": "stream",
     "text": [
      "Imagination:  75%|███████▌  | 75/100 [01:38<00:33,  1.35s/it]"
     ]
    },
    {
     "name": "stdout",
     "output_type": "stream",
     "text": [
      " DIMENSIONI DELL INITIAL STATE.STOCH =  torch.Size([50, 30])\n"
     ]
    },
    {
     "name": "stderr",
     "output_type": "stream",
     "text": [
      "Imagination:  76%|███████▌  | 76/100 [01:39<00:32,  1.35s/it]"
     ]
    },
    {
     "name": "stdout",
     "output_type": "stream",
     "text": [
      " DIMENSIONI DELL INITIAL STATE.STOCH =  torch.Size([50, 30])\n"
     ]
    },
    {
     "name": "stderr",
     "output_type": "stream",
     "text": [
      "Imagination:  77%|███████▋  | 77/100 [01:40<00:31,  1.36s/it]"
     ]
    },
    {
     "name": "stdout",
     "output_type": "stream",
     "text": [
      " DIMENSIONI DELL INITIAL STATE.STOCH =  torch.Size([50, 30])\n"
     ]
    },
    {
     "name": "stderr",
     "output_type": "stream",
     "text": [
      "Imagination:  78%|███████▊  | 78/100 [01:42<00:29,  1.35s/it]"
     ]
    },
    {
     "name": "stdout",
     "output_type": "stream",
     "text": [
      " DIMENSIONI DELL INITIAL STATE.STOCH =  torch.Size([50, 30])\n"
     ]
    },
    {
     "name": "stderr",
     "output_type": "stream",
     "text": [
      "Imagination:  79%|███████▉  | 79/100 [01:43<00:29,  1.39s/it]"
     ]
    },
    {
     "name": "stdout",
     "output_type": "stream",
     "text": [
      " DIMENSIONI DELL INITIAL STATE.STOCH =  torch.Size([50, 30])\n"
     ]
    },
    {
     "name": "stderr",
     "output_type": "stream",
     "text": [
      "Imagination:  80%|████████  | 80/100 [01:45<00:29,  1.46s/it]"
     ]
    },
    {
     "name": "stdout",
     "output_type": "stream",
     "text": [
      " DIMENSIONI DELL INITIAL STATE.STOCH =  torch.Size([50, 30])\n"
     ]
    },
    {
     "name": "stderr",
     "output_type": "stream",
     "text": [
      "Imagination:  81%|████████  | 81/100 [01:46<00:27,  1.43s/it]"
     ]
    },
    {
     "name": "stdout",
     "output_type": "stream",
     "text": [
      " DIMENSIONI DELL INITIAL STATE.STOCH =  torch.Size([50, 30])\n"
     ]
    },
    {
     "name": "stderr",
     "output_type": "stream",
     "text": [
      "Imagination:  82%|████████▏ | 82/100 [01:47<00:25,  1.40s/it]"
     ]
    },
    {
     "name": "stdout",
     "output_type": "stream",
     "text": [
      " DIMENSIONI DELL INITIAL STATE.STOCH =  torch.Size([50, 30])\n"
     ]
    },
    {
     "name": "stderr",
     "output_type": "stream",
     "text": [
      "Imagination:  83%|████████▎ | 83/100 [01:49<00:23,  1.39s/it]"
     ]
    },
    {
     "name": "stdout",
     "output_type": "stream",
     "text": [
      " DIMENSIONI DELL INITIAL STATE.STOCH =  torch.Size([50, 30])\n"
     ]
    },
    {
     "name": "stderr",
     "output_type": "stream",
     "text": [
      "Imagination:  84%|████████▍ | 84/100 [01:50<00:22,  1.43s/it]"
     ]
    },
    {
     "name": "stdout",
     "output_type": "stream",
     "text": [
      " DIMENSIONI DELL INITIAL STATE.STOCH =  torch.Size([50, 30])\n"
     ]
    },
    {
     "name": "stderr",
     "output_type": "stream",
     "text": [
      "Imagination:  85%|████████▌ | 85/100 [01:52<00:21,  1.43s/it]"
     ]
    },
    {
     "name": "stdout",
     "output_type": "stream",
     "text": [
      " DIMENSIONI DELL INITIAL STATE.STOCH =  torch.Size([50, 30])\n"
     ]
    },
    {
     "name": "stderr",
     "output_type": "stream",
     "text": [
      "Imagination:  86%|████████▌ | 86/100 [01:53<00:19,  1.40s/it]"
     ]
    },
    {
     "name": "stdout",
     "output_type": "stream",
     "text": [
      " DIMENSIONI DELL INITIAL STATE.STOCH =  torch.Size([50, 30])\n"
     ]
    },
    {
     "name": "stderr",
     "output_type": "stream",
     "text": [
      "Imagination:  87%|████████▋ | 87/100 [01:54<00:17,  1.36s/it]"
     ]
    },
    {
     "name": "stdout",
     "output_type": "stream",
     "text": [
      " DIMENSIONI DELL INITIAL STATE.STOCH =  torch.Size([50, 30])\n"
     ]
    },
    {
     "name": "stderr",
     "output_type": "stream",
     "text": [
      "Imagination:  88%|████████▊ | 88/100 [01:56<00:16,  1.33s/it]"
     ]
    },
    {
     "name": "stdout",
     "output_type": "stream",
     "text": [
      " DIMENSIONI DELL INITIAL STATE.STOCH =  torch.Size([50, 30])\n"
     ]
    },
    {
     "name": "stderr",
     "output_type": "stream",
     "text": [
      "Imagination:  89%|████████▉ | 89/100 [01:57<00:14,  1.32s/it]"
     ]
    },
    {
     "name": "stdout",
     "output_type": "stream",
     "text": [
      " DIMENSIONI DELL INITIAL STATE.STOCH =  torch.Size([50, 30])\n"
     ]
    },
    {
     "name": "stderr",
     "output_type": "stream",
     "text": [
      "Imagination:  90%|█████████ | 90/100 [01:58<00:13,  1.33s/it]"
     ]
    },
    {
     "name": "stdout",
     "output_type": "stream",
     "text": [
      " DIMENSIONI DELL INITIAL STATE.STOCH =  torch.Size([50, 30])\n"
     ]
    },
    {
     "name": "stderr",
     "output_type": "stream",
     "text": [
      "Imagination:  91%|█████████ | 91/100 [02:00<00:11,  1.33s/it]"
     ]
    },
    {
     "name": "stdout",
     "output_type": "stream",
     "text": [
      " DIMENSIONI DELL INITIAL STATE.STOCH =  torch.Size([50, 30])\n"
     ]
    },
    {
     "name": "stderr",
     "output_type": "stream",
     "text": [
      "Imagination:  92%|█████████▏| 92/100 [02:01<00:10,  1.34s/it]"
     ]
    },
    {
     "name": "stdout",
     "output_type": "stream",
     "text": [
      " DIMENSIONI DELL INITIAL STATE.STOCH =  torch.Size([50, 30])\n"
     ]
    },
    {
     "name": "stderr",
     "output_type": "stream",
     "text": [
      "Imagination:  93%|█████████▎| 93/100 [02:02<00:09,  1.34s/it]"
     ]
    },
    {
     "name": "stdout",
     "output_type": "stream",
     "text": [
      " DIMENSIONI DELL INITIAL STATE.STOCH =  torch.Size([50, 30])\n"
     ]
    },
    {
     "name": "stderr",
     "output_type": "stream",
     "text": [
      "Imagination:  94%|█████████▍| 94/100 [02:04<00:07,  1.33s/it]"
     ]
    },
    {
     "name": "stdout",
     "output_type": "stream",
     "text": [
      " DIMENSIONI DELL INITIAL STATE.STOCH =  torch.Size([50, 30])\n"
     ]
    },
    {
     "name": "stderr",
     "output_type": "stream",
     "text": [
      "Imagination:  95%|█████████▌| 95/100 [02:05<00:06,  1.32s/it]"
     ]
    },
    {
     "name": "stdout",
     "output_type": "stream",
     "text": [
      " DIMENSIONI DELL INITIAL STATE.STOCH =  torch.Size([50, 30])\n"
     ]
    },
    {
     "name": "stderr",
     "output_type": "stream",
     "text": [
      "Imagination:  96%|█████████▌| 96/100 [02:06<00:05,  1.32s/it]"
     ]
    },
    {
     "name": "stdout",
     "output_type": "stream",
     "text": [
      " DIMENSIONI DELL INITIAL STATE.STOCH =  torch.Size([50, 30])\n"
     ]
    },
    {
     "name": "stderr",
     "output_type": "stream",
     "text": [
      "Imagination:  97%|█████████▋| 97/100 [02:08<00:03,  1.31s/it]"
     ]
    },
    {
     "name": "stdout",
     "output_type": "stream",
     "text": [
      " DIMENSIONI DELL INITIAL STATE.STOCH =  torch.Size([50, 30])\n"
     ]
    },
    {
     "name": "stderr",
     "output_type": "stream",
     "text": [
      "Imagination:  98%|█████████▊| 98/100 [02:09<00:02,  1.32s/it]"
     ]
    },
    {
     "name": "stdout",
     "output_type": "stream",
     "text": [
      " DIMENSIONI DELL INITIAL STATE.STOCH =  torch.Size([50, 30])\n"
     ]
    },
    {
     "name": "stderr",
     "output_type": "stream",
     "text": [
      "Imagination:  99%|█████████▉| 99/100 [02:10<00:01,  1.34s/it]"
     ]
    },
    {
     "name": "stdout",
     "output_type": "stream",
     "text": [
      " DIMENSIONI DELL INITIAL STATE.STOCH =  torch.Size([50, 30])\n",
      "add_video needs package moviepy\n"
     ]
    },
    {
     "name": "stderr",
     "output_type": "stream",
     "text": [
      "Imagination: 100%|██████████| 100/100 [02:12<00:00,  1.32s/it]\n"
     ]
    },
    {
     "name": "stdout",
     "output_type": "stream",
     "text": [
      "2024-01-02 12:40:21.602581  | dreamer_humanoid_stand_0 itr #5999 saving snapshot...\n",
      "2024-01-02 12:40:21.743167  | dreamer_humanoid_stand_0 itr #5999 saved\n",
      "2024-01-02 12:40:21.769025  | -----------------------------  --------------\n",
      "2024-01-02 12:40:21.770372  | Diagnostics/NewCompletedTrajs      2\n",
      "2024-01-02 12:40:21.771582  | Diagnostics/StepsInTrajWindow   6000\n",
      "2024-01-02 12:40:21.773624  | Diagnostics/Iteration           5999\n",
      "2024-01-02 12:40:21.774897  | Diagnostics/CumTime (s)          185.37\n",
      "2024-01-02 12:40:21.776330  | Diagnostics/CumSteps            6000\n",
      "2024-01-02 12:40:21.778250  | Diagnostics/CumCompletedTrajs     12\n",
      "2024-01-02 12:40:21.779389  | Diagnostics/CumUpdates             0\n",
      "2024-01-02 12:40:21.782174  | Diagnostics/StepsPerSecond         7.06017\n",
      "2024-01-02 12:40:21.783179  | Diagnostics/UpdatesPerSecond       0\n",
      "2024-01-02 12:40:21.784304  | Diagnostics/ReplayRatio            0\n",
      "2024-01-02 12:40:21.785916  | Diagnostics/CumReplayRatio         0\n",
      "2024-01-02 12:40:21.787328  | Length/Average                   500\n",
      "2024-01-02 12:40:21.788660  | Length/Std                         0\n",
      "2024-01-02 12:40:21.790578  | Length/Median                    500\n",
      "2024-01-02 12:40:21.791700  | Length/Min                       500\n",
      "2024-01-02 12:40:21.792587  | Length/Max                       500\n",
      "2024-01-02 12:40:21.793446  | Return/Average                     4.12465\n",
      "2024-01-02 12:40:21.794906  | Return/Std                         2.50427\n",
      "2024-01-02 12:40:21.795558  | Return/Median                      3.74218\n",
      "2024-01-02 12:40:21.796233  | Return/Min                         0.49852\n",
      "2024-01-02 12:40:21.797050  | Return/Max                         8.74087\n",
      "2024-01-02 12:40:21.797705  | NonzeroRewards/Average           500\n",
      "2024-01-02 12:40:21.798905  | NonzeroRewards/Std                 0\n",
      "2024-01-02 12:40:21.799477  | NonzeroRewards/Median            500\n",
      "2024-01-02 12:40:21.800059  | NonzeroRewards/Min               500\n",
      "2024-01-02 12:40:21.801208  | NonzeroRewards/Max               500\n",
      "2024-01-02 12:40:21.801969  | DiscountedReturn/Average           4.03571\n",
      "2024-01-02 12:40:21.802756  | DiscountedReturn/Std               2.43511\n",
      "2024-01-02 12:40:21.803229  | DiscountedReturn/Median            3.67036\n",
      "2024-01-02 12:40:21.803674  | DiscountedReturn/Min               0.491603\n",
      "2024-01-02 12:40:21.804145  | DiscountedReturn/Max               8.52265\n",
      "2024-01-02 12:40:21.804594  | loss/Average                   11382.1\n",
      "2024-01-02 12:40:21.805033  | loss/Std                         100.027\n",
      "2024-01-02 12:40:21.806119  | loss/Median                    11340.3\n",
      "2024-01-02 12:40:21.806587  | loss/Min                       11330.1\n",
      "2024-01-02 12:40:21.807052  | loss/Max                       11760\n",
      "2024-01-02 12:40:21.808141  | grad_norm_model/Average          328.501\n",
      "2024-01-02 12:40:21.808653  | grad_norm_model/Std              459.034\n",
      "2024-01-02 12:40:21.809379  | grad_norm_model/Median           130.43\n",
      "2024-01-02 12:40:21.810210  | grad_norm_model/Min                6.85678\n",
      "2024-01-02 12:40:21.810776  | grad_norm_model/Max             1880.78\n",
      "2024-01-02 12:40:21.811295  | grad_norm_actor/Average            0.0294461\n",
      "2024-01-02 12:40:21.812309  | grad_norm_actor/Std                0.0217796\n",
      "2024-01-02 12:40:21.812812  | grad_norm_actor/Median             0.0195861\n",
      "2024-01-02 12:40:21.813288  | grad_norm_actor/Min                0.0113115\n",
      "2024-01-02 12:40:21.813761  | grad_norm_actor/Max                0.119097\n",
      "2024-01-02 12:40:21.814742  | grad_norm_value/Average            0.0900591\n",
      "2024-01-02 12:40:21.815398  | grad_norm_value/Std                0.0750676\n",
      "2024-01-02 12:40:21.815963  | grad_norm_value/Median             0.0749068\n",
      "2024-01-02 12:40:21.816656  | grad_norm_value/Min                0.00485559\n",
      "2024-01-02 12:40:21.817292  | grad_norm_value/Max                0.492527\n",
      "2024-01-02 12:40:21.817634  | model_loss/Average             11381.5\n",
      "2024-01-02 12:40:21.817955  | model_loss/Std                    99.933\n",
      "2024-01-02 12:40:21.818268  | model_loss/Median              11339.7\n",
      "2024-01-02 12:40:21.818773  | model_loss/Min                 11329.8\n",
      "2024-01-02 12:40:21.819067  | model_loss/Max                 11759.1\n",
      "2024-01-02 12:40:21.819504  | actor_loss/Average                -0.315329\n",
      "2024-01-02 12:40:21.819867  | actor_loss/Std                     0.173174\n",
      "2024-01-02 12:40:21.820216  | actor_loss/Median                 -0.291324\n",
      "2024-01-02 12:40:21.820505  | actor_loss/Min                    -0.769031\n",
      "2024-01-02 12:40:21.821042  | actor_loss/Max                     0.0276573\n",
      "2024-01-02 12:40:21.821519  | value_loss/Average                 0.865712\n",
      "2024-01-02 12:40:21.821899  | value_loss/Std                     0.00768006\n",
      "2024-01-02 12:40:21.822223  | value_loss/Median                  0.863798\n",
      "2024-01-02 12:40:21.822728  | value_loss/Min                     0.862208\n",
      "2024-01-02 12:40:21.823121  | value_loss/Max                     0.934722\n",
      "2024-01-02 12:40:21.823413  | prior_entropy/Average             36.2671\n",
      "2024-01-02 12:40:21.823723  | prior_entropy/Std                  0.2542\n",
      "2024-01-02 12:40:21.824062  | prior_entropy/Median              36.276\n",
      "2024-01-02 12:40:21.824403  | prior_entropy/Min                 35.499\n",
      "2024-01-02 12:40:21.825089  | prior_entropy/Max                 36.699\n",
      "2024-01-02 12:40:21.825497  | post_entropy/Average              33.4545\n",
      "2024-01-02 12:40:21.825896  | post_entropy/Std                   1.55595\n",
      "2024-01-02 12:40:21.826288  | post_entropy/Median               32.6353\n",
      "2024-01-02 12:40:21.826680  | post_entropy/Min                  31.3162\n",
      "2024-01-02 12:40:21.826999  | post_entropy/Max                  37.3349\n",
      "2024-01-02 12:40:21.827308  | divergence/Average                 3.01097\n",
      "2024-01-02 12:40:21.827621  | divergence/Std                     0.109141\n",
      "2024-01-02 12:40:21.827944  | divergence/Median                  3\n",
      "2024-01-02 12:40:21.828249  | divergence/Min                     3\n",
      "2024-01-02 12:40:21.828951  | divergence/Max                     4.09691\n",
      "2024-01-02 12:40:21.829267  | reward_loss/Average                0.922916\n",
      "2024-01-02 12:40:21.829709  | reward_loss/Std                    0.0024637\n",
      "2024-01-02 12:40:21.830118  | reward_loss/Median                 0.922783\n",
      "2024-01-02 12:40:21.830655  | reward_loss/Min                    0.919002\n",
      "2024-01-02 12:40:21.831092  | reward_loss/Max                    0.932733\n",
      "2024-01-02 12:40:21.831493  | image_loss/Average             11377.6\n",
      "2024-01-02 12:40:21.832276  | image_loss/Std                    99.9006\n",
      "2024-01-02 12:40:21.832884  | image_loss/Median              11335.7\n",
      "2024-01-02 12:40:21.833480  | image_loss/Min                 11325.9\n",
      "2024-01-02 12:40:21.833882  | image_loss/Max                 11755.1\n",
      "2024-01-02 12:40:21.834298  | pcont_loss/Average                 0\n",
      "2024-01-02 12:40:21.834698  | pcont_loss/Std                     0\n",
      "2024-01-02 12:40:21.835089  | pcont_loss/Median                  0\n",
      "2024-01-02 12:40:21.835913  | pcont_loss/Min                     0\n",
      "2024-01-02 12:40:21.836411  | pcont_loss/Max                     0\n",
      "2024-01-02 12:40:21.836794  | -----------------------------  --------------\n",
      "2024-01-02 12:40:21.838031  | dreamer_humanoid_stand_0 itr #5999 Optimizing over 1000 iterations.\n",
      "Warning: No valid output stream.\n"
     ]
    },
    {
     "name": "stderr",
     "output_type": "stream",
     "text": [
      "Imagination:   0%|          | 0/100 [00:00<?, ?it/s]"
     ]
    },
    {
     "name": "stdout",
     "output_type": "stream",
     "text": [
      " DIMENSIONI DELL INITIAL STATE.STOCH =  torch.Size([50, 30])\n"
     ]
    },
    {
     "name": "stderr",
     "output_type": "stream",
     "text": [
      "Imagination:   1%|          | 1/100 [00:01<02:19,  1.41s/it]"
     ]
    },
    {
     "name": "stdout",
     "output_type": "stream",
     "text": [
      " DIMENSIONI DELL INITIAL STATE.STOCH =  torch.Size([50, 30])\n"
     ]
    },
    {
     "name": "stderr",
     "output_type": "stream",
     "text": [
      "Imagination:   2%|▏         | 2/100 [00:02<02:13,  1.36s/it]"
     ]
    },
    {
     "name": "stdout",
     "output_type": "stream",
     "text": [
      " DIMENSIONI DELL INITIAL STATE.STOCH =  torch.Size([50, 30])\n"
     ]
    },
    {
     "name": "stderr",
     "output_type": "stream",
     "text": [
      "Imagination:   3%|▎         | 3/100 [00:04<02:09,  1.34s/it]"
     ]
    },
    {
     "name": "stdout",
     "output_type": "stream",
     "text": [
      " DIMENSIONI DELL INITIAL STATE.STOCH =  torch.Size([50, 30])\n"
     ]
    },
    {
     "name": "stderr",
     "output_type": "stream",
     "text": [
      "Imagination:   4%|▍         | 4/100 [00:05<02:07,  1.33s/it]"
     ]
    },
    {
     "name": "stdout",
     "output_type": "stream",
     "text": [
      " DIMENSIONI DELL INITIAL STATE.STOCH =  torch.Size([50, 30])\n"
     ]
    },
    {
     "name": "stderr",
     "output_type": "stream",
     "text": [
      "Imagination:   5%|▌         | 5/100 [00:06<02:04,  1.32s/it]"
     ]
    },
    {
     "name": "stdout",
     "output_type": "stream",
     "text": [
      " DIMENSIONI DELL INITIAL STATE.STOCH =  torch.Size([50, 30])\n"
     ]
    },
    {
     "name": "stderr",
     "output_type": "stream",
     "text": [
      "Imagination:   6%|▌         | 6/100 [00:08<02:04,  1.33s/it]"
     ]
    },
    {
     "name": "stdout",
     "output_type": "stream",
     "text": [
      " DIMENSIONI DELL INITIAL STATE.STOCH =  torch.Size([50, 30])\n"
     ]
    },
    {
     "name": "stderr",
     "output_type": "stream",
     "text": [
      "Imagination:   7%|▋         | 7/100 [00:09<02:02,  1.31s/it]"
     ]
    },
    {
     "name": "stdout",
     "output_type": "stream",
     "text": [
      " DIMENSIONI DELL INITIAL STATE.STOCH =  torch.Size([50, 30])\n"
     ]
    },
    {
     "name": "stderr",
     "output_type": "stream",
     "text": [
      "Imagination:   8%|▊         | 8/100 [00:10<01:59,  1.30s/it]"
     ]
    },
    {
     "name": "stdout",
     "output_type": "stream",
     "text": [
      " DIMENSIONI DELL INITIAL STATE.STOCH =  torch.Size([50, 30])\n"
     ]
    },
    {
     "name": "stderr",
     "output_type": "stream",
     "text": [
      "Imagination:   9%|▉         | 9/100 [00:11<01:58,  1.30s/it]"
     ]
    },
    {
     "name": "stdout",
     "output_type": "stream",
     "text": [
      " DIMENSIONI DELL INITIAL STATE.STOCH =  torch.Size([50, 30])\n"
     ]
    },
    {
     "name": "stderr",
     "output_type": "stream",
     "text": [
      "Imagination:  10%|█         | 10/100 [00:13<01:56,  1.30s/it]"
     ]
    },
    {
     "name": "stdout",
     "output_type": "stream",
     "text": [
      " DIMENSIONI DELL INITIAL STATE.STOCH =  torch.Size([50, 30])\n"
     ]
    },
    {
     "name": "stderr",
     "output_type": "stream",
     "text": [
      "Imagination:  11%|█         | 11/100 [00:14<01:58,  1.33s/it]"
     ]
    },
    {
     "name": "stdout",
     "output_type": "stream",
     "text": [
      " DIMENSIONI DELL INITIAL STATE.STOCH =  torch.Size([50, 30])\n"
     ]
    },
    {
     "name": "stderr",
     "output_type": "stream",
     "text": [
      "Imagination:  12%|█▏        | 12/100 [00:15<01:56,  1.33s/it]"
     ]
    },
    {
     "name": "stdout",
     "output_type": "stream",
     "text": [
      " DIMENSIONI DELL INITIAL STATE.STOCH =  torch.Size([50, 30])\n"
     ]
    },
    {
     "name": "stderr",
     "output_type": "stream",
     "text": [
      "Imagination:  13%|█▎        | 13/100 [00:17<01:54,  1.31s/it]"
     ]
    },
    {
     "name": "stdout",
     "output_type": "stream",
     "text": [
      " DIMENSIONI DELL INITIAL STATE.STOCH =  torch.Size([50, 30])\n"
     ]
    },
    {
     "name": "stderr",
     "output_type": "stream",
     "text": [
      "Imagination:  14%|█▍        | 14/100 [00:18<01:52,  1.30s/it]"
     ]
    },
    {
     "name": "stdout",
     "output_type": "stream",
     "text": [
      " DIMENSIONI DELL INITIAL STATE.STOCH =  torch.Size([50, 30])\n"
     ]
    },
    {
     "name": "stderr",
     "output_type": "stream",
     "text": [
      "Imagination:  15%|█▌        | 15/100 [00:19<01:50,  1.30s/it]"
     ]
    },
    {
     "name": "stdout",
     "output_type": "stream",
     "text": [
      " DIMENSIONI DELL INITIAL STATE.STOCH =  torch.Size([50, 30])\n"
     ]
    },
    {
     "name": "stderr",
     "output_type": "stream",
     "text": [
      "Imagination:  16%|█▌        | 16/100 [00:21<01:48,  1.30s/it]"
     ]
    },
    {
     "name": "stdout",
     "output_type": "stream",
     "text": [
      " DIMENSIONI DELL INITIAL STATE.STOCH =  torch.Size([50, 30])\n"
     ]
    },
    {
     "name": "stderr",
     "output_type": "stream",
     "text": [
      "Imagination:  17%|█▋        | 17/100 [00:22<01:47,  1.29s/it]"
     ]
    },
    {
     "name": "stdout",
     "output_type": "stream",
     "text": [
      " DIMENSIONI DELL INITIAL STATE.STOCH =  torch.Size([50, 30])\n"
     ]
    },
    {
     "name": "stderr",
     "output_type": "stream",
     "text": [
      "Imagination:  18%|█▊        | 18/100 [00:23<01:45,  1.29s/it]"
     ]
    },
    {
     "name": "stdout",
     "output_type": "stream",
     "text": [
      " DIMENSIONI DELL INITIAL STATE.STOCH =  torch.Size([50, 30])\n"
     ]
    },
    {
     "name": "stderr",
     "output_type": "stream",
     "text": [
      "Imagination:  19%|█▉        | 19/100 [00:24<01:44,  1.29s/it]"
     ]
    },
    {
     "name": "stdout",
     "output_type": "stream",
     "text": [
      " DIMENSIONI DELL INITIAL STATE.STOCH =  torch.Size([50, 30])\n"
     ]
    },
    {
     "name": "stderr",
     "output_type": "stream",
     "text": [
      "Imagination:  20%|██        | 20/100 [00:26<01:43,  1.29s/it]"
     ]
    },
    {
     "name": "stdout",
     "output_type": "stream",
     "text": [
      " DIMENSIONI DELL INITIAL STATE.STOCH =  torch.Size([50, 30])\n"
     ]
    },
    {
     "name": "stderr",
     "output_type": "stream",
     "text": [
      "Imagination:  21%|██        | 21/100 [00:27<01:44,  1.32s/it]"
     ]
    },
    {
     "name": "stdout",
     "output_type": "stream",
     "text": [
      " DIMENSIONI DELL INITIAL STATE.STOCH =  torch.Size([50, 30])\n"
     ]
    },
    {
     "name": "stderr",
     "output_type": "stream",
     "text": [
      "Imagination:  22%|██▏       | 22/100 [00:28<01:43,  1.33s/it]"
     ]
    },
    {
     "name": "stdout",
     "output_type": "stream",
     "text": [
      " DIMENSIONI DELL INITIAL STATE.STOCH =  torch.Size([50, 30])\n"
     ]
    },
    {
     "name": "stderr",
     "output_type": "stream",
     "text": [
      "Imagination:  23%|██▎       | 23/100 [00:30<01:41,  1.32s/it]"
     ]
    },
    {
     "name": "stdout",
     "output_type": "stream",
     "text": [
      " DIMENSIONI DELL INITIAL STATE.STOCH =  torch.Size([50, 30])\n"
     ]
    },
    {
     "name": "stderr",
     "output_type": "stream",
     "text": [
      "Imagination:  24%|██▍       | 24/100 [00:31<01:39,  1.31s/it]"
     ]
    },
    {
     "name": "stdout",
     "output_type": "stream",
     "text": [
      " DIMENSIONI DELL INITIAL STATE.STOCH =  torch.Size([50, 30])\n"
     ]
    },
    {
     "name": "stderr",
     "output_type": "stream",
     "text": [
      "Imagination:  25%|██▌       | 25/100 [00:32<01:38,  1.32s/it]"
     ]
    },
    {
     "name": "stdout",
     "output_type": "stream",
     "text": [
      " DIMENSIONI DELL INITIAL STATE.STOCH =  torch.Size([50, 30])\n"
     ]
    },
    {
     "name": "stderr",
     "output_type": "stream",
     "text": [
      "Imagination:  26%|██▌       | 26/100 [00:34<01:38,  1.33s/it]"
     ]
    },
    {
     "name": "stdout",
     "output_type": "stream",
     "text": [
      " DIMENSIONI DELL INITIAL STATE.STOCH =  torch.Size([50, 30])\n"
     ]
    },
    {
     "name": "stderr",
     "output_type": "stream",
     "text": [
      "Imagination:  27%|██▋       | 27/100 [00:35<01:37,  1.34s/it]"
     ]
    },
    {
     "name": "stdout",
     "output_type": "stream",
     "text": [
      " DIMENSIONI DELL INITIAL STATE.STOCH =  torch.Size([50, 30])\n"
     ]
    },
    {
     "name": "stderr",
     "output_type": "stream",
     "text": [
      "Imagination:  28%|██▊       | 28/100 [00:36<01:35,  1.32s/it]"
     ]
    },
    {
     "name": "stdout",
     "output_type": "stream",
     "text": [
      " DIMENSIONI DELL INITIAL STATE.STOCH =  torch.Size([50, 30])\n"
     ]
    },
    {
     "name": "stderr",
     "output_type": "stream",
     "text": [
      "Imagination:  29%|██▉       | 29/100 [00:38<01:34,  1.33s/it]"
     ]
    },
    {
     "name": "stdout",
     "output_type": "stream",
     "text": [
      " DIMENSIONI DELL INITIAL STATE.STOCH =  torch.Size([50, 30])\n"
     ]
    },
    {
     "name": "stderr",
     "output_type": "stream",
     "text": [
      "Imagination:  30%|███       | 30/100 [00:39<01:33,  1.33s/it]"
     ]
    },
    {
     "name": "stdout",
     "output_type": "stream",
     "text": [
      " DIMENSIONI DELL INITIAL STATE.STOCH =  torch.Size([50, 30])\n"
     ]
    },
    {
     "name": "stderr",
     "output_type": "stream",
     "text": [
      "Imagination:  31%|███       | 31/100 [00:40<01:33,  1.35s/it]"
     ]
    },
    {
     "name": "stdout",
     "output_type": "stream",
     "text": [
      " DIMENSIONI DELL INITIAL STATE.STOCH =  torch.Size([50, 30])\n"
     ]
    },
    {
     "name": "stderr",
     "output_type": "stream",
     "text": [
      "Imagination:  32%|███▏      | 32/100 [00:42<01:31,  1.35s/it]"
     ]
    },
    {
     "name": "stdout",
     "output_type": "stream",
     "text": [
      " DIMENSIONI DELL INITIAL STATE.STOCH =  torch.Size([50, 30])\n"
     ]
    },
    {
     "name": "stderr",
     "output_type": "stream",
     "text": [
      "Imagination:  33%|███▎      | 33/100 [00:43<01:31,  1.36s/it]"
     ]
    },
    {
     "name": "stdout",
     "output_type": "stream",
     "text": [
      " DIMENSIONI DELL INITIAL STATE.STOCH =  torch.Size([50, 30])\n"
     ]
    },
    {
     "name": "stderr",
     "output_type": "stream",
     "text": [
      "Imagination:  34%|███▍      | 34/100 [00:45<01:31,  1.38s/it]"
     ]
    },
    {
     "name": "stdout",
     "output_type": "stream",
     "text": [
      " DIMENSIONI DELL INITIAL STATE.STOCH =  torch.Size([50, 30])\n"
     ]
    },
    {
     "name": "stderr",
     "output_type": "stream",
     "text": [
      "Imagination:  35%|███▌      | 35/100 [00:46<01:29,  1.37s/it]"
     ]
    },
    {
     "name": "stdout",
     "output_type": "stream",
     "text": [
      " DIMENSIONI DELL INITIAL STATE.STOCH =  torch.Size([50, 30])\n"
     ]
    },
    {
     "name": "stderr",
     "output_type": "stream",
     "text": [
      "Imagination:  36%|███▌      | 36/100 [00:47<01:27,  1.36s/it]"
     ]
    },
    {
     "name": "stdout",
     "output_type": "stream",
     "text": [
      " DIMENSIONI DELL INITIAL STATE.STOCH =  torch.Size([50, 30])\n"
     ]
    },
    {
     "name": "stderr",
     "output_type": "stream",
     "text": [
      "Imagination:  37%|███▋      | 37/100 [00:49<01:24,  1.35s/it]"
     ]
    },
    {
     "name": "stdout",
     "output_type": "stream",
     "text": [
      " DIMENSIONI DELL INITIAL STATE.STOCH =  torch.Size([50, 30])\n"
     ]
    },
    {
     "name": "stderr",
     "output_type": "stream",
     "text": [
      "Imagination:  38%|███▊      | 38/100 [00:50<01:23,  1.35s/it]"
     ]
    },
    {
     "name": "stdout",
     "output_type": "stream",
     "text": [
      " DIMENSIONI DELL INITIAL STATE.STOCH =  torch.Size([50, 30])\n"
     ]
    },
    {
     "name": "stderr",
     "output_type": "stream",
     "text": [
      "Imagination:  39%|███▉      | 39/100 [00:51<01:25,  1.41s/it]"
     ]
    },
    {
     "name": "stdout",
     "output_type": "stream",
     "text": [
      " DIMENSIONI DELL INITIAL STATE.STOCH =  torch.Size([50, 30])\n"
     ]
    },
    {
     "name": "stderr",
     "output_type": "stream",
     "text": [
      "Imagination:  40%|████      | 40/100 [00:53<01:23,  1.40s/it]"
     ]
    },
    {
     "name": "stdout",
     "output_type": "stream",
     "text": [
      " DIMENSIONI DELL INITIAL STATE.STOCH =  torch.Size([50, 30])\n"
     ]
    },
    {
     "name": "stderr",
     "output_type": "stream",
     "text": [
      "Imagination:  41%|████      | 41/100 [00:54<01:22,  1.40s/it]"
     ]
    },
    {
     "name": "stdout",
     "output_type": "stream",
     "text": [
      " DIMENSIONI DELL INITIAL STATE.STOCH =  torch.Size([50, 30])\n"
     ]
    },
    {
     "name": "stderr",
     "output_type": "stream",
     "text": [
      "Imagination:  42%|████▏     | 42/100 [00:56<01:21,  1.40s/it]"
     ]
    },
    {
     "name": "stdout",
     "output_type": "stream",
     "text": [
      " DIMENSIONI DELL INITIAL STATE.STOCH =  torch.Size([50, 30])\n"
     ]
    },
    {
     "name": "stderr",
     "output_type": "stream",
     "text": [
      "Imagination:  43%|████▎     | 43/100 [00:57<01:19,  1.40s/it]"
     ]
    },
    {
     "name": "stdout",
     "output_type": "stream",
     "text": [
      " DIMENSIONI DELL INITIAL STATE.STOCH =  torch.Size([50, 30])\n"
     ]
    },
    {
     "name": "stderr",
     "output_type": "stream",
     "text": [
      "Imagination:  44%|████▍     | 44/100 [00:58<01:18,  1.40s/it]"
     ]
    },
    {
     "name": "stdout",
     "output_type": "stream",
     "text": [
      " DIMENSIONI DELL INITIAL STATE.STOCH =  torch.Size([50, 30])\n"
     ]
    },
    {
     "name": "stderr",
     "output_type": "stream",
     "text": [
      "Imagination:  45%|████▌     | 45/100 [01:00<01:17,  1.41s/it]"
     ]
    },
    {
     "name": "stdout",
     "output_type": "stream",
     "text": [
      " DIMENSIONI DELL INITIAL STATE.STOCH =  torch.Size([50, 30])\n"
     ]
    },
    {
     "name": "stderr",
     "output_type": "stream",
     "text": [
      "Imagination:  46%|████▌     | 46/100 [01:01<01:15,  1.40s/it]"
     ]
    },
    {
     "name": "stdout",
     "output_type": "stream",
     "text": [
      " DIMENSIONI DELL INITIAL STATE.STOCH =  torch.Size([50, 30])\n"
     ]
    },
    {
     "name": "stderr",
     "output_type": "stream",
     "text": [
      "Imagination:  47%|████▋     | 47/100 [01:03<01:13,  1.38s/it]"
     ]
    },
    {
     "name": "stdout",
     "output_type": "stream",
     "text": [
      " DIMENSIONI DELL INITIAL STATE.STOCH =  torch.Size([50, 30])\n"
     ]
    },
    {
     "name": "stderr",
     "output_type": "stream",
     "text": [
      "Imagination:  48%|████▊     | 48/100 [01:04<01:11,  1.38s/it]"
     ]
    },
    {
     "name": "stdout",
     "output_type": "stream",
     "text": [
      " DIMENSIONI DELL INITIAL STATE.STOCH =  torch.Size([50, 30])\n"
     ]
    },
    {
     "name": "stderr",
     "output_type": "stream",
     "text": [
      "Imagination:  49%|████▉     | 49/100 [01:05<01:10,  1.39s/it]"
     ]
    },
    {
     "name": "stdout",
     "output_type": "stream",
     "text": [
      " DIMENSIONI DELL INITIAL STATE.STOCH =  torch.Size([50, 30])\n"
     ]
    },
    {
     "name": "stderr",
     "output_type": "stream",
     "text": [
      "Imagination:  50%|█████     | 50/100 [01:07<01:08,  1.37s/it]"
     ]
    },
    {
     "name": "stdout",
     "output_type": "stream",
     "text": [
      " DIMENSIONI DELL INITIAL STATE.STOCH =  torch.Size([50, 30])\n"
     ]
    },
    {
     "name": "stderr",
     "output_type": "stream",
     "text": [
      "Imagination:  51%|█████     | 51/100 [01:08<01:06,  1.35s/it]"
     ]
    },
    {
     "name": "stdout",
     "output_type": "stream",
     "text": [
      " DIMENSIONI DELL INITIAL STATE.STOCH =  torch.Size([50, 30])\n"
     ]
    },
    {
     "name": "stderr",
     "output_type": "stream",
     "text": [
      "Imagination:  52%|█████▏    | 52/100 [01:09<01:04,  1.35s/it]"
     ]
    },
    {
     "name": "stdout",
     "output_type": "stream",
     "text": [
      " DIMENSIONI DELL INITIAL STATE.STOCH =  torch.Size([50, 30])\n"
     ]
    },
    {
     "name": "stderr",
     "output_type": "stream",
     "text": [
      "Imagination:  53%|█████▎    | 53/100 [01:11<01:03,  1.34s/it]"
     ]
    },
    {
     "name": "stdout",
     "output_type": "stream",
     "text": [
      " DIMENSIONI DELL INITIAL STATE.STOCH =  torch.Size([50, 30])\n"
     ]
    },
    {
     "name": "stderr",
     "output_type": "stream",
     "text": [
      "Imagination:  54%|█████▍    | 54/100 [01:12<01:01,  1.34s/it]"
     ]
    },
    {
     "name": "stdout",
     "output_type": "stream",
     "text": [
      " DIMENSIONI DELL INITIAL STATE.STOCH =  torch.Size([50, 30])\n"
     ]
    },
    {
     "name": "stderr",
     "output_type": "stream",
     "text": [
      "Imagination:  55%|█████▌    | 55/100 [01:13<01:00,  1.35s/it]"
     ]
    },
    {
     "name": "stdout",
     "output_type": "stream",
     "text": [
      " DIMENSIONI DELL INITIAL STATE.STOCH =  torch.Size([50, 30])\n"
     ]
    },
    {
     "name": "stderr",
     "output_type": "stream",
     "text": [
      "Imagination:  56%|█████▌    | 56/100 [01:15<00:59,  1.36s/it]"
     ]
    },
    {
     "name": "stdout",
     "output_type": "stream",
     "text": [
      " DIMENSIONI DELL INITIAL STATE.STOCH =  torch.Size([50, 30])\n"
     ]
    },
    {
     "name": "stderr",
     "output_type": "stream",
     "text": [
      "Imagination:  57%|█████▋    | 57/100 [01:16<00:58,  1.35s/it]"
     ]
    },
    {
     "name": "stdout",
     "output_type": "stream",
     "text": [
      " DIMENSIONI DELL INITIAL STATE.STOCH =  torch.Size([50, 30])\n"
     ]
    },
    {
     "name": "stderr",
     "output_type": "stream",
     "text": [
      "Imagination:  58%|█████▊    | 58/100 [01:17<00:56,  1.34s/it]"
     ]
    },
    {
     "name": "stdout",
     "output_type": "stream",
     "text": [
      " DIMENSIONI DELL INITIAL STATE.STOCH =  torch.Size([50, 30])\n"
     ]
    },
    {
     "name": "stderr",
     "output_type": "stream",
     "text": [
      "Imagination:  59%|█████▉    | 59/100 [01:19<00:54,  1.33s/it]"
     ]
    },
    {
     "name": "stdout",
     "output_type": "stream",
     "text": [
      " DIMENSIONI DELL INITIAL STATE.STOCH =  torch.Size([50, 30])\n"
     ]
    },
    {
     "name": "stderr",
     "output_type": "stream",
     "text": [
      "Imagination:  60%|██████    | 60/100 [01:20<00:52,  1.32s/it]"
     ]
    },
    {
     "name": "stdout",
     "output_type": "stream",
     "text": [
      " DIMENSIONI DELL INITIAL STATE.STOCH =  torch.Size([50, 30])\n"
     ]
    },
    {
     "name": "stderr",
     "output_type": "stream",
     "text": [
      "Imagination:  61%|██████    | 61/100 [01:21<00:51,  1.32s/it]"
     ]
    },
    {
     "name": "stdout",
     "output_type": "stream",
     "text": [
      " DIMENSIONI DELL INITIAL STATE.STOCH =  torch.Size([50, 30])\n"
     ]
    },
    {
     "name": "stderr",
     "output_type": "stream",
     "text": [
      "Imagination:  62%|██████▏   | 62/100 [01:23<00:50,  1.32s/it]"
     ]
    },
    {
     "name": "stdout",
     "output_type": "stream",
     "text": [
      " DIMENSIONI DELL INITIAL STATE.STOCH =  torch.Size([50, 30])\n"
     ]
    },
    {
     "name": "stderr",
     "output_type": "stream",
     "text": [
      "Imagination:  63%|██████▎   | 63/100 [01:24<00:49,  1.34s/it]"
     ]
    },
    {
     "name": "stdout",
     "output_type": "stream",
     "text": [
      " DIMENSIONI DELL INITIAL STATE.STOCH =  torch.Size([50, 30])\n"
     ]
    },
    {
     "name": "stderr",
     "output_type": "stream",
     "text": [
      "Imagination:  64%|██████▍   | 64/100 [01:25<00:48,  1.35s/it]"
     ]
    },
    {
     "name": "stdout",
     "output_type": "stream",
     "text": [
      " DIMENSIONI DELL INITIAL STATE.STOCH =  torch.Size([50, 30])\n"
     ]
    },
    {
     "name": "stderr",
     "output_type": "stream",
     "text": [
      "Imagination:  65%|██████▌   | 65/100 [01:27<00:47,  1.35s/it]"
     ]
    },
    {
     "name": "stdout",
     "output_type": "stream",
     "text": [
      " DIMENSIONI DELL INITIAL STATE.STOCH =  torch.Size([50, 30])\n"
     ]
    },
    {
     "name": "stderr",
     "output_type": "stream",
     "text": [
      "Imagination:  66%|██████▌   | 66/100 [01:28<00:45,  1.33s/it]"
     ]
    },
    {
     "name": "stdout",
     "output_type": "stream",
     "text": [
      " DIMENSIONI DELL INITIAL STATE.STOCH =  torch.Size([50, 30])\n"
     ]
    },
    {
     "name": "stderr",
     "output_type": "stream",
     "text": [
      "Imagination:  67%|██████▋   | 67/100 [01:29<00:44,  1.35s/it]"
     ]
    },
    {
     "name": "stdout",
     "output_type": "stream",
     "text": [
      " DIMENSIONI DELL INITIAL STATE.STOCH =  torch.Size([50, 30])\n"
     ]
    },
    {
     "name": "stderr",
     "output_type": "stream",
     "text": [
      "Imagination:  68%|██████▊   | 68/100 [01:31<00:43,  1.37s/it]"
     ]
    },
    {
     "name": "stdout",
     "output_type": "stream",
     "text": [
      " DIMENSIONI DELL INITIAL STATE.STOCH =  torch.Size([50, 30])\n"
     ]
    },
    {
     "name": "stderr",
     "output_type": "stream",
     "text": [
      "Imagination:  69%|██████▉   | 69/100 [01:32<00:41,  1.35s/it]"
     ]
    },
    {
     "name": "stdout",
     "output_type": "stream",
     "text": [
      " DIMENSIONI DELL INITIAL STATE.STOCH =  torch.Size([50, 30])\n"
     ]
    },
    {
     "name": "stderr",
     "output_type": "stream",
     "text": [
      "Imagination:  70%|███████   | 70/100 [01:34<00:40,  1.35s/it]"
     ]
    },
    {
     "name": "stdout",
     "output_type": "stream",
     "text": [
      " DIMENSIONI DELL INITIAL STATE.STOCH =  torch.Size([50, 30])\n"
     ]
    },
    {
     "name": "stderr",
     "output_type": "stream",
     "text": [
      "Imagination:  71%|███████   | 71/100 [01:35<00:38,  1.33s/it]"
     ]
    },
    {
     "name": "stdout",
     "output_type": "stream",
     "text": [
      " DIMENSIONI DELL INITIAL STATE.STOCH =  torch.Size([50, 30])\n"
     ]
    },
    {
     "name": "stderr",
     "output_type": "stream",
     "text": [
      "Imagination:  72%|███████▏  | 72/100 [01:36<00:36,  1.32s/it]"
     ]
    },
    {
     "name": "stdout",
     "output_type": "stream",
     "text": [
      " DIMENSIONI DELL INITIAL STATE.STOCH =  torch.Size([50, 30])\n"
     ]
    },
    {
     "name": "stderr",
     "output_type": "stream",
     "text": [
      "Imagination:  73%|███████▎  | 73/100 [01:37<00:35,  1.33s/it]"
     ]
    },
    {
     "name": "stdout",
     "output_type": "stream",
     "text": [
      " DIMENSIONI DELL INITIAL STATE.STOCH =  torch.Size([50, 30])\n"
     ]
    },
    {
     "name": "stderr",
     "output_type": "stream",
     "text": [
      "Imagination:  74%|███████▍  | 74/100 [01:39<00:34,  1.33s/it]"
     ]
    },
    {
     "name": "stdout",
     "output_type": "stream",
     "text": [
      " DIMENSIONI DELL INITIAL STATE.STOCH =  torch.Size([50, 30])\n"
     ]
    },
    {
     "name": "stderr",
     "output_type": "stream",
     "text": [
      "Imagination:  75%|███████▌  | 75/100 [01:40<00:33,  1.33s/it]"
     ]
    },
    {
     "name": "stdout",
     "output_type": "stream",
     "text": [
      " DIMENSIONI DELL INITIAL STATE.STOCH =  torch.Size([50, 30])\n"
     ]
    },
    {
     "name": "stderr",
     "output_type": "stream",
     "text": [
      "Imagination:  76%|███████▌  | 76/100 [01:41<00:32,  1.33s/it]"
     ]
    },
    {
     "name": "stdout",
     "output_type": "stream",
     "text": [
      " DIMENSIONI DELL INITIAL STATE.STOCH =  torch.Size([50, 30])\n"
     ]
    },
    {
     "name": "stderr",
     "output_type": "stream",
     "text": [
      "Imagination:  77%|███████▋  | 77/100 [01:43<00:30,  1.34s/it]"
     ]
    },
    {
     "name": "stdout",
     "output_type": "stream",
     "text": [
      " DIMENSIONI DELL INITIAL STATE.STOCH =  torch.Size([50, 30])\n"
     ]
    },
    {
     "name": "stderr",
     "output_type": "stream",
     "text": [
      "Imagination:  78%|███████▊  | 78/100 [01:44<00:29,  1.33s/it]"
     ]
    },
    {
     "name": "stdout",
     "output_type": "stream",
     "text": [
      " DIMENSIONI DELL INITIAL STATE.STOCH =  torch.Size([50, 30])\n"
     ]
    },
    {
     "name": "stderr",
     "output_type": "stream",
     "text": [
      "Imagination:  79%|███████▉  | 79/100 [01:45<00:27,  1.32s/it]"
     ]
    },
    {
     "name": "stdout",
     "output_type": "stream",
     "text": [
      " DIMENSIONI DELL INITIAL STATE.STOCH =  torch.Size([50, 30])\n"
     ]
    },
    {
     "name": "stderr",
     "output_type": "stream",
     "text": [
      "Imagination:  80%|████████  | 80/100 [01:47<00:26,  1.33s/it]"
     ]
    },
    {
     "name": "stdout",
     "output_type": "stream",
     "text": [
      " DIMENSIONI DELL INITIAL STATE.STOCH =  torch.Size([50, 30])\n"
     ]
    },
    {
     "name": "stderr",
     "output_type": "stream",
     "text": [
      "Imagination:  81%|████████  | 81/100 [01:48<00:25,  1.32s/it]"
     ]
    },
    {
     "name": "stdout",
     "output_type": "stream",
     "text": [
      " DIMENSIONI DELL INITIAL STATE.STOCH =  torch.Size([50, 30])\n"
     ]
    },
    {
     "name": "stderr",
     "output_type": "stream",
     "text": [
      "Imagination:  82%|████████▏ | 82/100 [01:49<00:23,  1.33s/it]"
     ]
    },
    {
     "name": "stdout",
     "output_type": "stream",
     "text": [
      " DIMENSIONI DELL INITIAL STATE.STOCH =  torch.Size([50, 30])\n"
     ]
    },
    {
     "name": "stderr",
     "output_type": "stream",
     "text": [
      "Imagination:  83%|████████▎ | 83/100 [01:51<00:22,  1.32s/it]"
     ]
    },
    {
     "name": "stdout",
     "output_type": "stream",
     "text": [
      " DIMENSIONI DELL INITIAL STATE.STOCH =  torch.Size([50, 30])\n"
     ]
    },
    {
     "name": "stderr",
     "output_type": "stream",
     "text": [
      "Imagination:  84%|████████▍ | 84/100 [01:52<00:21,  1.33s/it]"
     ]
    },
    {
     "name": "stdout",
     "output_type": "stream",
     "text": [
      " DIMENSIONI DELL INITIAL STATE.STOCH =  torch.Size([50, 30])\n"
     ]
    },
    {
     "name": "stderr",
     "output_type": "stream",
     "text": [
      "Imagination:  85%|████████▌ | 85/100 [01:53<00:19,  1.33s/it]"
     ]
    },
    {
     "name": "stdout",
     "output_type": "stream",
     "text": [
      " DIMENSIONI DELL INITIAL STATE.STOCH =  torch.Size([50, 30])\n"
     ]
    },
    {
     "name": "stderr",
     "output_type": "stream",
     "text": [
      "Imagination:  86%|████████▌ | 86/100 [01:55<00:18,  1.33s/it]"
     ]
    },
    {
     "name": "stdout",
     "output_type": "stream",
     "text": [
      " DIMENSIONI DELL INITIAL STATE.STOCH =  torch.Size([50, 30])\n"
     ]
    },
    {
     "name": "stderr",
     "output_type": "stream",
     "text": [
      "Imagination:  87%|████████▋ | 87/100 [01:56<00:17,  1.33s/it]"
     ]
    },
    {
     "name": "stdout",
     "output_type": "stream",
     "text": [
      " DIMENSIONI DELL INITIAL STATE.STOCH =  torch.Size([50, 30])\n"
     ]
    },
    {
     "name": "stderr",
     "output_type": "stream",
     "text": [
      "Imagination:  88%|████████▊ | 88/100 [01:57<00:15,  1.33s/it]"
     ]
    },
    {
     "name": "stdout",
     "output_type": "stream",
     "text": [
      " DIMENSIONI DELL INITIAL STATE.STOCH =  torch.Size([50, 30])\n"
     ]
    },
    {
     "name": "stderr",
     "output_type": "stream",
     "text": [
      "Imagination:  89%|████████▉ | 89/100 [01:59<00:14,  1.32s/it]"
     ]
    },
    {
     "name": "stdout",
     "output_type": "stream",
     "text": [
      " DIMENSIONI DELL INITIAL STATE.STOCH =  torch.Size([50, 30])\n"
     ]
    },
    {
     "name": "stderr",
     "output_type": "stream",
     "text": [
      "Imagination:  90%|█████████ | 90/100 [02:00<00:13,  1.32s/it]"
     ]
    },
    {
     "name": "stdout",
     "output_type": "stream",
     "text": [
      " DIMENSIONI DELL INITIAL STATE.STOCH =  torch.Size([50, 30])\n"
     ]
    },
    {
     "name": "stderr",
     "output_type": "stream",
     "text": [
      "Imagination:  91%|█████████ | 91/100 [02:01<00:11,  1.33s/it]"
     ]
    },
    {
     "name": "stdout",
     "output_type": "stream",
     "text": [
      " DIMENSIONI DELL INITIAL STATE.STOCH =  torch.Size([50, 30])\n"
     ]
    },
    {
     "name": "stderr",
     "output_type": "stream",
     "text": [
      "Imagination:  92%|█████████▏| 92/100 [02:03<00:10,  1.32s/it]"
     ]
    },
    {
     "name": "stdout",
     "output_type": "stream",
     "text": [
      " DIMENSIONI DELL INITIAL STATE.STOCH =  torch.Size([50, 30])\n"
     ]
    },
    {
     "name": "stderr",
     "output_type": "stream",
     "text": [
      "Imagination:  93%|█████████▎| 93/100 [02:04<00:09,  1.35s/it]"
     ]
    },
    {
     "name": "stdout",
     "output_type": "stream",
     "text": [
      " DIMENSIONI DELL INITIAL STATE.STOCH =  torch.Size([50, 30])\n"
     ]
    },
    {
     "name": "stderr",
     "output_type": "stream",
     "text": [
      "Imagination:  94%|█████████▍| 94/100 [02:05<00:08,  1.36s/it]"
     ]
    },
    {
     "name": "stdout",
     "output_type": "stream",
     "text": [
      " DIMENSIONI DELL INITIAL STATE.STOCH =  torch.Size([50, 30])\n"
     ]
    },
    {
     "name": "stderr",
     "output_type": "stream",
     "text": [
      "Imagination:  95%|█████████▌| 95/100 [02:07<00:06,  1.40s/it]"
     ]
    },
    {
     "name": "stdout",
     "output_type": "stream",
     "text": [
      " DIMENSIONI DELL INITIAL STATE.STOCH =  torch.Size([50, 30])\n"
     ]
    },
    {
     "name": "stderr",
     "output_type": "stream",
     "text": [
      "Imagination:  96%|█████████▌| 96/100 [02:08<00:05,  1.41s/it]"
     ]
    },
    {
     "name": "stdout",
     "output_type": "stream",
     "text": [
      " DIMENSIONI DELL INITIAL STATE.STOCH =  torch.Size([50, 30])\n"
     ]
    },
    {
     "name": "stderr",
     "output_type": "stream",
     "text": [
      "Imagination:  97%|█████████▋| 97/100 [02:10<00:04,  1.39s/it]"
     ]
    },
    {
     "name": "stdout",
     "output_type": "stream",
     "text": [
      " DIMENSIONI DELL INITIAL STATE.STOCH =  torch.Size([50, 30])\n"
     ]
    },
    {
     "name": "stderr",
     "output_type": "stream",
     "text": [
      "Imagination:  98%|█████████▊| 98/100 [02:11<00:02,  1.41s/it]"
     ]
    },
    {
     "name": "stdout",
     "output_type": "stream",
     "text": [
      " DIMENSIONI DELL INITIAL STATE.STOCH =  torch.Size([50, 30])\n"
     ]
    },
    {
     "name": "stderr",
     "output_type": "stream",
     "text": [
      "Imagination:  99%|█████████▉| 99/100 [02:13<00:01,  1.41s/it]"
     ]
    },
    {
     "name": "stdout",
     "output_type": "stream",
     "text": [
      " DIMENSIONI DELL INITIAL STATE.STOCH =  torch.Size([50, 30])\n",
      "add_video needs package moviepy\n"
     ]
    },
    {
     "name": "stderr",
     "output_type": "stream",
     "text": [
      "Imagination: 100%|██████████| 100/100 [02:14<00:00,  1.35s/it]\n"
     ]
    },
    {
     "name": "stdout",
     "output_type": "stream",
     "text": [
      "2024-01-02 12:42:45.572261  | dreamer_humanoid_stand_0 itr #6999 saving snapshot...\n",
      "2024-01-02 12:42:45.688576  | dreamer_humanoid_stand_0 itr #6999 saved\n",
      "2024-01-02 12:42:45.696669  | -----------------------------  -------------\n",
      "2024-01-02 12:42:45.697454  | Diagnostics/NewCompletedTrajs      2\n",
      "2024-01-02 12:42:45.697778  | Diagnostics/StepsInTrajWindow   7000\n",
      "2024-01-02 12:42:45.698378  | Diagnostics/Iteration           6999\n",
      "2024-01-02 12:42:45.698729  | Diagnostics/CumTime (s)          329.314\n",
      "2024-01-02 12:42:45.699153  | Diagnostics/CumSteps            7000\n",
      "2024-01-02 12:42:45.699484  | Diagnostics/CumCompletedTrajs     14\n",
      "2024-01-02 12:42:45.700483  | Diagnostics/CumUpdates             0\n",
      "2024-01-02 12:42:45.700883  | Diagnostics/StepsPerSecond         6.94714\n",
      "2024-01-02 12:42:45.701349  | Diagnostics/UpdatesPerSecond       0\n",
      "2024-01-02 12:42:45.701697  | Diagnostics/ReplayRatio            0\n",
      "2024-01-02 12:42:45.702135  | Diagnostics/CumReplayRatio         0\n",
      "2024-01-02 12:42:45.702420  | Length/Average                   500\n",
      "2024-01-02 12:42:45.702993  | Length/Std                         0\n",
      "2024-01-02 12:42:45.703425  | Length/Median                    500\n",
      "2024-01-02 12:42:45.703755  | Length/Min                       500\n",
      "2024-01-02 12:42:45.704034  | Length/Max                       500\n",
      "2024-01-02 12:42:45.704466  | Return/Average                     4.47438\n",
      "2024-01-02 12:42:45.704795  | Return/Std                         2.66094\n",
      "2024-01-02 12:42:45.705267  | Return/Median                      3.90988\n",
      "2024-01-02 12:42:45.705557  | Return/Min                         0.49852\n",
      "2024-01-02 12:42:45.706094  | Return/Max                         9.18026\n",
      "2024-01-02 12:42:45.706446  | NonzeroRewards/Average           500\n",
      "2024-01-02 12:42:45.707009  | NonzeroRewards/Std                 0\n",
      "2024-01-02 12:42:45.707429  | NonzeroRewards/Median            500\n",
      "2024-01-02 12:42:45.707768  | NonzeroRewards/Min               500\n",
      "2024-01-02 12:42:45.708197  | NonzeroRewards/Max               500\n",
      "2024-01-02 12:42:45.708665  | DiscountedReturn/Average           4.37764\n",
      "2024-01-02 12:42:45.709053  | DiscountedReturn/Std               2.58789\n",
      "2024-01-02 12:42:45.709505  | DiscountedReturn/Median            3.83741\n",
      "2024-01-02 12:42:45.710048  | DiscountedReturn/Min               0.491603\n",
      "2024-01-02 12:42:45.710374  | DiscountedReturn/Max               8.95733\n",
      "2024-01-02 12:42:45.710982  | loss/Average                   11325.8\n",
      "2024-01-02 12:42:45.711429  | loss/Std                           2.86014\n",
      "2024-01-02 12:42:45.711801  | loss/Median                    11325.6\n",
      "2024-01-02 12:42:45.712432  | loss/Min                       11321.1\n",
      "2024-01-02 12:42:45.712905  | loss/Max                       11330.4\n",
      "2024-01-02 12:42:45.713391  | grad_norm_model/Average           13.2756\n",
      "2024-01-02 12:42:45.713734  | grad_norm_model/Std                8.50494\n",
      "2024-01-02 12:42:45.714168  | grad_norm_model/Median            11.0814\n",
      "2024-01-02 12:42:45.714453  | grad_norm_model/Min                4.18773\n",
      "2024-01-02 12:42:45.714912  | grad_norm_model/Max               52.3315\n",
      "2024-01-02 12:42:45.715321  | grad_norm_actor/Average            0.264729\n",
      "2024-01-02 12:42:45.715873  | grad_norm_actor/Std                0.156654\n",
      "2024-01-02 12:42:45.716267  | grad_norm_actor/Median             0.268283\n",
      "2024-01-02 12:42:45.716651  | grad_norm_actor/Min                0.047204\n",
      "2024-01-02 12:42:45.717338  | grad_norm_actor/Max                0.556229\n",
      "2024-01-02 12:42:45.717720  | grad_norm_value/Average            0.91453\n",
      "2024-01-02 12:42:45.718115  | grad_norm_value/Std                0.965787\n",
      "2024-01-02 12:42:45.718700  | grad_norm_value/Median             0.561588\n",
      "2024-01-02 12:42:45.719066  | grad_norm_value/Min                0.0275957\n",
      "2024-01-02 12:42:45.719488  | grad_norm_value/Max                4.28175\n",
      "2024-01-02 12:42:45.719781  | model_loss/Average             11329.2\n",
      "2024-01-02 12:42:45.720112  | model_loss/Std                     0.479726\n",
      "2024-01-02 12:42:45.720418  | model_loss/Median              11329.2\n",
      "2024-01-02 12:42:45.720817  | model_loss/Min                 11328.1\n",
      "2024-01-02 12:42:45.721092  | model_loss/Max                 11330.5\n",
      "2024-01-02 12:42:45.721480  | actor_loss/Average                -4.29956\n",
      "2024-01-02 12:42:45.721845  | actor_loss/Std                     2.59757\n",
      "2024-01-02 12:42:45.722518  | actor_loss/Median                 -4.39166\n",
      "2024-01-02 12:42:45.722962  | actor_loss/Min                    -8.03895\n",
      "2024-01-02 12:42:45.723315  | actor_loss/Max                    -0.764015\n",
      "2024-01-02 12:42:45.723804  | value_loss/Average                 0.913974\n",
      "2024-01-02 12:42:45.724177  | value_loss/Std                     0.0439549\n",
      "2024-01-02 12:42:45.724684  | value_loss/Median                  0.908714\n",
      "2024-01-02 12:42:45.725132  | value_loss/Min                     0.864208\n",
      "2024-01-02 12:42:45.725431  | value_loss/Max                     1.03593\n",
      "2024-01-02 12:42:45.725727  | prior_entropy/Average             34.4345\n",
      "2024-01-02 12:42:45.726233  | prior_entropy/Std                  2.19539\n",
      "2024-01-02 12:42:45.726660  | prior_entropy/Median              36.1521\n",
      "2024-01-02 12:42:45.726994  | prior_entropy/Min                 27.5954\n",
      "2024-01-02 12:42:45.727340  | prior_entropy/Max                 36.1747\n",
      "2024-01-02 12:42:45.727676  | post_entropy/Average              29.4938\n",
      "2024-01-02 12:42:45.728154  | post_entropy/Std                   2.02666\n",
      "2024-01-02 12:42:45.728452  | post_entropy/Median               29.6839\n",
      "2024-01-02 12:42:45.728753  | post_entropy/Min                  22.5874\n",
      "2024-01-02 12:42:45.729324  | post_entropy/Max                  32.5946\n",
      "2024-01-02 12:42:45.729824  | divergence/Average                 3.01027\n",
      "2024-01-02 12:42:45.730402  | divergence/Std                     0.0571871\n",
      "2024-01-02 12:42:45.730841  | divergence/Median                  3\n",
      "2024-01-02 12:42:45.731309  | divergence/Min                     3\n",
      "2024-01-02 12:42:45.731753  | divergence/Max                     3.41356\n",
      "2024-01-02 12:42:45.732162  | reward_loss/Average                0.922478\n",
      "2024-01-02 12:42:45.732598  | reward_loss/Std                    0.0022601\n",
      "2024-01-02 12:42:45.733026  | reward_loss/Median                 0.922237\n",
      "2024-01-02 12:42:45.733416  | reward_loss/Min                    0.919167\n",
      "2024-01-02 12:42:45.733739  | reward_loss/Max                    0.933304\n",
      "2024-01-02 12:42:45.734195  | image_loss/Average             11325.3\n",
      "2024-01-02 12:42:45.734490  | image_loss/Std                     0.480928\n",
      "2024-01-02 12:42:45.734950  | image_loss/Median              11325.3\n",
      "2024-01-02 12:42:45.735265  | image_loss/Min                 11324.2\n",
      "2024-01-02 12:42:45.735572  | image_loss/Max                 11326.6\n",
      "2024-01-02 12:42:45.735897  | pcont_loss/Average                 0\n",
      "2024-01-02 12:42:45.736695  | pcont_loss/Std                     0\n",
      "2024-01-02 12:42:45.737149  | pcont_loss/Median                  0\n",
      "2024-01-02 12:42:45.737873  | pcont_loss/Min                     0\n",
      "2024-01-02 12:42:45.738437  | pcont_loss/Max                     0\n",
      "2024-01-02 12:42:45.738917  | -----------------------------  -------------\n",
      "2024-01-02 12:42:45.739567  | dreamer_humanoid_stand_0 itr #6999 Optimizing over 1000 iterations.\n",
      "Warning: No valid output stream.\n"
     ]
    },
    {
     "name": "stderr",
     "output_type": "stream",
     "text": [
      "Imagination:   0%|          | 0/100 [00:00<?, ?it/s]"
     ]
    },
    {
     "name": "stdout",
     "output_type": "stream",
     "text": [
      " DIMENSIONI DELL INITIAL STATE.STOCH =  torch.Size([50, 30])\n"
     ]
    },
    {
     "name": "stderr",
     "output_type": "stream",
     "text": [
      "Imagination:   1%|          | 1/100 [00:01<02:16,  1.38s/it]"
     ]
    },
    {
     "name": "stdout",
     "output_type": "stream",
     "text": [
      " DIMENSIONI DELL INITIAL STATE.STOCH =  torch.Size([50, 30])\n"
     ]
    },
    {
     "name": "stderr",
     "output_type": "stream",
     "text": [
      "Imagination:   1%|          | 1/100 [00:02<03:24,  2.07s/it]\n"
     ]
    },
    {
     "ename": "KeyboardInterrupt",
     "evalue": "",
     "output_type": "error",
     "traceback": [
      "\u001b[0;31m---------------------------------------------------------------------------\u001b[0m",
      "\u001b[0;31mKeyboardInterrupt\u001b[0m                         Traceback (most recent call last)",
      "Cell \u001b[0;32mIn[3], line 3\u001b[0m\n\u001b[1;32m      1\u001b[0m log_dir \u001b[38;5;241m=\u001b[39m os\u001b[38;5;241m.\u001b[39mpath\u001b[38;5;241m.\u001b[39mabspath(\u001b[38;5;124m'\u001b[39m\u001b[38;5;124m/home/eddy/Projects/RL_project/logs\u001b[39m\u001b[38;5;124m'\u001b[39m)\n\u001b[0;32m----> 3\u001b[0m \u001b[43mbuild_and_train\u001b[49m\u001b[43m(\u001b[49m\n\u001b[1;32m      4\u001b[0m \u001b[43m        \u001b[49m\u001b[43mlog_dir\u001b[49m\u001b[43m,\u001b[49m\n\u001b[1;32m      5\u001b[0m \u001b[43m        \u001b[49m\u001b[43mgame\u001b[49m\u001b[38;5;241;43m=\u001b[39;49m\u001b[38;5;124;43m\"\u001b[39;49m\u001b[38;5;124;43mhumanoid_stand\u001b[39;49m\u001b[38;5;124;43m\"\u001b[39;49m\u001b[43m,\u001b[49m\n\u001b[1;32m      6\u001b[0m \u001b[43m        \u001b[49m\u001b[43mrun_ID\u001b[49m\u001b[38;5;241;43m=\u001b[39;49m\u001b[38;5;241;43m0\u001b[39;49m\u001b[43m,\u001b[49m\n\u001b[1;32m      7\u001b[0m \u001b[43m        \u001b[49m\u001b[43mcuda_idx\u001b[49m\u001b[38;5;241;43m=\u001b[39;49m\u001b[38;5;241;43m0\u001b[39;49m\u001b[43m,\u001b[49m\n\u001b[1;32m      8\u001b[0m \u001b[43m        \u001b[49m\u001b[38;5;28;43meval\u001b[39;49m\u001b[38;5;241;43m=\u001b[39;49m\u001b[38;5;28;43;01mFalse\u001b[39;49;00m\u001b[43m,\u001b[49m\n\u001b[1;32m      9\u001b[0m \u001b[43m        \u001b[49m\u001b[43msave_model\u001b[49m\u001b[38;5;241;43m=\u001b[39;49m\u001b[38;5;124;43m\"\u001b[39;49m\u001b[38;5;124;43mlast\u001b[39;49m\u001b[38;5;124;43m\"\u001b[39;49m\u001b[43m,\u001b[49m\n\u001b[1;32m     10\u001b[0m \u001b[43m        \u001b[49m\u001b[43mload_model_path\u001b[49m\u001b[38;5;241;43m=\u001b[39;49m\u001b[38;5;28;43;01mFalse\u001b[39;49;00m\u001b[43m,\u001b[49m\n\u001b[1;32m     11\u001b[0m \u001b[43m    \u001b[49m\u001b[43m)\u001b[49m\n",
      "Cell \u001b[0;32mIn[2], line 60\u001b[0m, in \u001b[0;36mbuild_and_train\u001b[0;34m(log_dir, game, run_ID, cuda_idx, eval, save_model, load_model_path)\u001b[0m\n\u001b[1;32m     50\u001b[0m name \u001b[38;5;241m=\u001b[39m \u001b[38;5;124m\"\u001b[39m\u001b[38;5;124mdreamer_\u001b[39m\u001b[38;5;124m\"\u001b[39m \u001b[38;5;241m+\u001b[39m game\n\u001b[1;32m     51\u001b[0m \u001b[38;5;28;01mwith\u001b[39;00m logger_context(\n\u001b[1;32m     52\u001b[0m     log_dir,\n\u001b[1;32m     53\u001b[0m     run_ID,\n\u001b[0;32m   (...)\u001b[0m\n\u001b[1;32m     58\u001b[0m     use_summary_writer\u001b[38;5;241m=\u001b[39m\u001b[38;5;28;01mTrue\u001b[39;00m,\n\u001b[1;32m     59\u001b[0m ):\n\u001b[0;32m---> 60\u001b[0m     \u001b[43mrunner\u001b[49m\u001b[38;5;241;43m.\u001b[39;49m\u001b[43mtrain\u001b[49m\u001b[43m(\u001b[49m\u001b[43m)\u001b[49m\n",
      "File \u001b[0;32m~/Projects/RL_project/rlpyt/rlpyt/runners/minibatch_rl.py:261\u001b[0m, in \u001b[0;36mMinibatchRl.train\u001b[0;34m(self)\u001b[0m\n\u001b[1;32m    259\u001b[0m samples, traj_infos \u001b[38;5;241m=\u001b[39m \u001b[38;5;28mself\u001b[39m\u001b[38;5;241m.\u001b[39msampler\u001b[38;5;241m.\u001b[39mobtain_samples(itr)\n\u001b[1;32m    260\u001b[0m \u001b[38;5;28mself\u001b[39m\u001b[38;5;241m.\u001b[39magent\u001b[38;5;241m.\u001b[39mtrain_mode(itr)\n\u001b[0;32m--> 261\u001b[0m opt_info \u001b[38;5;241m=\u001b[39m \u001b[38;5;28;43mself\u001b[39;49m\u001b[38;5;241;43m.\u001b[39;49m\u001b[43malgo\u001b[49m\u001b[38;5;241;43m.\u001b[39;49m\u001b[43moptimize_agent\u001b[49m\u001b[43m(\u001b[49m\u001b[43mitr\u001b[49m\u001b[43m,\u001b[49m\u001b[43m \u001b[49m\u001b[43msamples\u001b[49m\u001b[43m)\u001b[49m\n\u001b[1;32m    262\u001b[0m \u001b[38;5;28mself\u001b[39m\u001b[38;5;241m.\u001b[39mstore_diagnostics(itr, traj_infos, opt_info)\n\u001b[1;32m    263\u001b[0m \u001b[38;5;28;01mif\u001b[39;00m (itr \u001b[38;5;241m+\u001b[39m \u001b[38;5;241m1\u001b[39m) \u001b[38;5;241m%\u001b[39m \u001b[38;5;28mself\u001b[39m\u001b[38;5;241m.\u001b[39mlog_interval_itrs \u001b[38;5;241m==\u001b[39m \u001b[38;5;241m0\u001b[39m:\n",
      "File \u001b[0;32m~/Projects/RL_project/algorithm.py:219\u001b[0m, in \u001b[0;36mDreamer.optimize_agent\u001b[0;34m(self, itr, samples, sampler_itr)\u001b[0m\n\u001b[1;32m    215\u001b[0m samples_from_replay \u001b[38;5;241m=\u001b[39m \u001b[38;5;28mself\u001b[39m\u001b[38;5;241m.\u001b[39mreplay_buffer\u001b[38;5;241m.\u001b[39msample_batch(\n\u001b[1;32m    216\u001b[0m     \u001b[38;5;28mself\u001b[39m\u001b[38;5;241m.\u001b[39m_batch_size, \u001b[38;5;28mself\u001b[39m\u001b[38;5;241m.\u001b[39mbatch_length\n\u001b[1;32m    217\u001b[0m )\n\u001b[1;32m    218\u001b[0m buffed_samples \u001b[38;5;241m=\u001b[39m buffer_to(samples_from_replay, \u001b[38;5;28mself\u001b[39m\u001b[38;5;241m.\u001b[39magent\u001b[38;5;241m.\u001b[39mdevice)\n\u001b[0;32m--> 219\u001b[0m model_loss, actor_loss, value_loss, loss_info \u001b[38;5;241m=\u001b[39m \u001b[38;5;28;43mself\u001b[39;49m\u001b[38;5;241;43m.\u001b[39;49m\u001b[43mloss\u001b[49m\u001b[43m(\u001b[49m\n\u001b[1;32m    220\u001b[0m \u001b[43m    \u001b[49m\u001b[43mbuffed_samples\u001b[49m\u001b[43m,\u001b[49m\u001b[43m \u001b[49m\u001b[43mitr\u001b[49m\u001b[43m,\u001b[49m\u001b[43m \u001b[49m\u001b[43mi\u001b[49m\n\u001b[1;32m    221\u001b[0m \u001b[43m\u001b[49m\u001b[43m)\u001b[49m\n\u001b[1;32m    223\u001b[0m \u001b[38;5;28mself\u001b[39m\u001b[38;5;241m.\u001b[39mmodel_optimizer\u001b[38;5;241m.\u001b[39mzero_grad()\n\u001b[1;32m    224\u001b[0m \u001b[38;5;28mself\u001b[39m\u001b[38;5;241m.\u001b[39mactor_optimizer\u001b[38;5;241m.\u001b[39mzero_grad()\n",
      "File \u001b[0;32m~/Projects/RL_project/algorithm.py:320\u001b[0m, in \u001b[0;36mDreamer.loss\u001b[0;34m(self, samples, sample_itr, opt_itr)\u001b[0m\n\u001b[1;32m    318\u001b[0m     pcont_target \u001b[38;5;241m=\u001b[39m \u001b[38;5;28mself\u001b[39m\u001b[38;5;241m.\u001b[39mdiscount \u001b[38;5;241m*\u001b[39m (\u001b[38;5;241m1\u001b[39m \u001b[38;5;241m-\u001b[39m done\u001b[38;5;241m.\u001b[39mfloat())\n\u001b[1;32m    319\u001b[0m     pcont_loss \u001b[38;5;241m=\u001b[39m \u001b[38;5;241m-\u001b[39mtorch\u001b[38;5;241m.\u001b[39mmean(pcont_pred\u001b[38;5;241m.\u001b[39mlog_prob(pcont_target))\n\u001b[0;32m--> 320\u001b[0m prior_dist \u001b[38;5;241m=\u001b[39m \u001b[43mget_dist\u001b[49m\u001b[43m(\u001b[49m\u001b[43mprior\u001b[49m\u001b[43m)\u001b[49m\n\u001b[1;32m    321\u001b[0m post_dist \u001b[38;5;241m=\u001b[39m get_dist(post)\n\u001b[1;32m    322\u001b[0m div \u001b[38;5;241m=\u001b[39m torch\u001b[38;5;241m.\u001b[39mmean(torch\u001b[38;5;241m.\u001b[39mdistributions\u001b[38;5;241m.\u001b[39mkl\u001b[38;5;241m.\u001b[39mkl_divergence(post_dist, prior_dist))\n",
      "File \u001b[0;32m~/Projects/RL_project/utils/functions.py:109\u001b[0m, in \u001b[0;36mget_dist\u001b[0;34m(rssm_state)\u001b[0m\n\u001b[1;32m    108\u001b[0m \u001b[38;5;28;01mdef\u001b[39;00m \u001b[38;5;21mget_dist\u001b[39m(rssm_state: RSSMState):\n\u001b[0;32m--> 109\u001b[0m     \u001b[38;5;28;01mreturn\u001b[39;00m td\u001b[38;5;241m.\u001b[39mindependent\u001b[38;5;241m.\u001b[39mIndependent(\u001b[43mtd\u001b[49m\u001b[38;5;241;43m.\u001b[39;49m\u001b[43mNormal\u001b[49m\u001b[43m(\u001b[49m\u001b[43mrssm_state\u001b[49m\u001b[38;5;241;43m.\u001b[39;49m\u001b[43mmean\u001b[49m\u001b[43m,\u001b[49m\u001b[43m \u001b[49m\u001b[43mrssm_state\u001b[49m\u001b[38;5;241;43m.\u001b[39;49m\u001b[43mstd\u001b[49m\u001b[43m)\u001b[49m, \u001b[38;5;241m1\u001b[39m)\n",
      "File \u001b[0;32m~/.local/lib/python3.10/site-packages/torch/distributions/normal.py:56\u001b[0m, in \u001b[0;36mNormal.__init__\u001b[0;34m(self, loc, scale, validate_args)\u001b[0m\n\u001b[1;32m     54\u001b[0m \u001b[38;5;28;01melse\u001b[39;00m:\n\u001b[1;32m     55\u001b[0m     batch_shape \u001b[38;5;241m=\u001b[39m \u001b[38;5;28mself\u001b[39m\u001b[38;5;241m.\u001b[39mloc\u001b[38;5;241m.\u001b[39msize()\n\u001b[0;32m---> 56\u001b[0m \u001b[38;5;28;43msuper\u001b[39;49m\u001b[43m(\u001b[49m\u001b[43m)\u001b[49m\u001b[38;5;241;43m.\u001b[39;49m\u001b[38;5;21;43m__init__\u001b[39;49m\u001b[43m(\u001b[49m\u001b[43mbatch_shape\u001b[49m\u001b[43m,\u001b[49m\u001b[43m \u001b[49m\u001b[43mvalidate_args\u001b[49m\u001b[38;5;241;43m=\u001b[39;49m\u001b[43mvalidate_args\u001b[49m\u001b[43m)\u001b[49m\n",
      "File \u001b[0;32m~/.local/lib/python3.10/site-packages/torch/distributions/distribution.py:61\u001b[0m, in \u001b[0;36mDistribution.__init__\u001b[0;34m(self, batch_shape, event_shape, validate_args)\u001b[0m\n\u001b[1;32m     59\u001b[0m         value \u001b[38;5;241m=\u001b[39m \u001b[38;5;28mgetattr\u001b[39m(\u001b[38;5;28mself\u001b[39m, param)\n\u001b[1;32m     60\u001b[0m         valid \u001b[38;5;241m=\u001b[39m constraint\u001b[38;5;241m.\u001b[39mcheck(value)\n\u001b[0;32m---> 61\u001b[0m         \u001b[38;5;28;01mif\u001b[39;00m \u001b[38;5;129;01mnot\u001b[39;00m valid\u001b[38;5;241m.\u001b[39mall():\n\u001b[1;32m     62\u001b[0m             \u001b[38;5;28;01mraise\u001b[39;00m \u001b[38;5;167;01mValueError\u001b[39;00m(\n\u001b[1;32m     63\u001b[0m                 \u001b[38;5;124mf\u001b[39m\u001b[38;5;124m\"\u001b[39m\u001b[38;5;124mExpected parameter \u001b[39m\u001b[38;5;132;01m{\u001b[39;00mparam\u001b[38;5;132;01m}\u001b[39;00m\u001b[38;5;124m \u001b[39m\u001b[38;5;124m\"\u001b[39m\n\u001b[1;32m     64\u001b[0m                 \u001b[38;5;124mf\u001b[39m\u001b[38;5;124m\"\u001b[39m\u001b[38;5;124m(\u001b[39m\u001b[38;5;132;01m{\u001b[39;00m\u001b[38;5;28mtype\u001b[39m(value)\u001b[38;5;241m.\u001b[39m\u001b[38;5;18m__name__\u001b[39m\u001b[38;5;132;01m}\u001b[39;00m\u001b[38;5;124m of shape \u001b[39m\u001b[38;5;132;01m{\u001b[39;00m\u001b[38;5;28mtuple\u001b[39m(value\u001b[38;5;241m.\u001b[39mshape)\u001b[38;5;132;01m}\u001b[39;00m\u001b[38;5;124m) \u001b[39m\u001b[38;5;124m\"\u001b[39m\n\u001b[0;32m   (...)\u001b[0m\n\u001b[1;32m     67\u001b[0m                 \u001b[38;5;124mf\u001b[39m\u001b[38;5;124m\"\u001b[39m\u001b[38;5;124mbut found invalid values:\u001b[39m\u001b[38;5;130;01m\\n\u001b[39;00m\u001b[38;5;132;01m{\u001b[39;00mvalue\u001b[38;5;132;01m}\u001b[39;00m\u001b[38;5;124m\"\u001b[39m\n\u001b[1;32m     68\u001b[0m             )\n\u001b[1;32m     69\u001b[0m \u001b[38;5;28msuper\u001b[39m()\u001b[38;5;241m.\u001b[39m\u001b[38;5;21m__init__\u001b[39m()\n",
      "\u001b[0;31mKeyboardInterrupt\u001b[0m: "
     ]
    }
   ],
   "source": [
    "log_dir = os.path.abspath('/home/eddy/Projects/RL_project/logs')\n",
    "\n",
    "build_and_train(\n",
    "        log_dir,\n",
    "        game=\"humanoid_stand\",\n",
    "        run_ID=0,\n",
    "        cuda_idx=0,\n",
    "        eval=False,\n",
    "        save_model=\"last\",\n",
    "        load_model_path=False,\n",
    "    )"
   ]
  }
 ],
 "metadata": {
  "kernelspec": {
   "display_name": "base",
   "language": "python",
   "name": "python3"
  },
  "language_info": {
   "codemirror_mode": {
    "name": "ipython",
    "version": 3
   },
   "file_extension": ".py",
   "mimetype": "text/x-python",
   "name": "python",
   "nbconvert_exporter": "python",
   "pygments_lexer": "ipython3",
   "version": "3.10.10"
  }
 },
 "nbformat": 4,
 "nbformat_minor": 2
}
